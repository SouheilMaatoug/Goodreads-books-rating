{
 "cells": [
  {
   "cell_type": "markdown",
   "id": "3108e34d",
   "metadata": {},
   "source": [
    " ## ML-Project\n",
    " - **Author**: \n",
    "     - Souheil\n",
    " \n",
    " \n",
    "### Description:\n",
    "- Based on real user experience information about books (title, author, year, ...), the purpose of this project is to develop an end-to-end machine learning project to <mark>**predict a book's rating**</mark>.\n",
    " \n",
    "- This notebook presents an exploration of the available dataset with some analytics.\n",
    "\n",
    "- **Problem**: can we predict a book's rating using the goodreads database ?\n",
    "\n",
    "### Data\n",
    "- The available dataset is a collection of user experience information taken from the social cataloging website [Goodreads](https://www.goodreads.com). The size of the dataset is about 10k lines which is considered as sufficient for an ML project.\n",
    "\n",
    "- The information in the dataset are : *bookID, title, authors, average_rating, isbn, isbn13, language_code, num_pages, ratings_count, text_reviews_count, publication_date, publisher*\n",
    " \n",
    "- Optional additional dataset: If needed, we can access an additional database from the same source (Goodreads) and that contains additional information (Genres, Reviews, ...).\n",
    "\n",
    "- do we have enough data to solve the problem ?\n",
    "- can we get more data ? \n",
    "- is my data sane (is it of good quality ? / is it representative to problem ?)\n",
    " \n",
    " \n",
    "---\n",
    "\n",
    "\n",
    "\n",
    " ### ML project steps\n",
    "\n",
    "\n",
    "| data                         | features                     | model                        |\n",
    "|------------------------------|------------------------------|------------------------------|\n",
    "|- cleaning                    |- feature selection           |- model selection             |\n",
    "|- transformation              |- feature engineering         |- evaluation                  |\n",
    "|- plotting                    |                              |- improvement                 |"
   ]
  },
  {
   "cell_type": "markdown",
   "id": "896e1b74",
   "metadata": {},
   "source": [
    "### Contents of the noteook\n",
    "1. Getting to know the data  \n",
    "    - opening the csv file and checking for anomalies in the structure of the file\n",
    "    - fixing errors and writing new csv file if needed\n",
    "2. Exploring the data \n",
    "    - checking for missing values\n",
    "    - checking for erroneous values\n",
    "    - checking for duplicates\n",
    "    - analyzing each column of the csv\n",
    "3. Conclusions (about features and modelling)"
   ]
  },
  {
   "cell_type": "markdown",
   "id": "d80b1531",
   "metadata": {},
   "source": [
    "## 1. Getting to know the data"
   ]
  },
  {
   "cell_type": "code",
   "execution_count": 1,
   "id": "3e2efbc4",
   "metadata": {},
   "outputs": [],
   "source": [
    "# read the csv file\n",
    "# headers / column names\n",
    "with open(\"../data/books.csv\", \"r\", encoding=\"utf-8\") as f:\n",
    "    header_line = f.readline()\n",
    "    header_list = [item.strip() for item in header_line.rstrip(\"\\n\").split(\",\")]"
   ]
  },
  {
   "cell_type": "code",
   "execution_count": 2,
   "id": "727f4b06",
   "metadata": {},
   "outputs": [
    {
     "name": "stdout",
     "output_type": "stream",
     "text": [
      "12 columns: \n",
      "['bookID', 'title', 'authors', 'average_rating', 'isbn', 'isbn13', 'language_code', 'num_pages', 'ratings_count', 'text_reviews_count', 'publication_date', 'publisher']\n"
     ]
    }
   ],
   "source": [
    "print(len(header_list), \"columns: \")\n",
    "print(header_list)"
   ]
  },
  {
   "cell_type": "markdown",
   "id": "36f47366",
   "metadata": {},
   "source": [
    "- **bookID**: a unique identifier in the csv file\n",
    "- **title**: the title of the book\n",
    "- **authors**: the authors of the book\n",
    "- **average_rating**: the average rating having a value between 1 and 5\n",
    "- **isbn**: the isbn code (unique identifier) of the book\n",
    "- **isbn13** : a 13 digit isbn code\n",
    "- **language_code**: the language of the code\n",
    "- **num_pages**: the number of pages of the book\n",
    "- **rating_count**: the count of ratings of the book\n",
    "- **text_reviews_count**: the count of reviews of the book\n",
    "- **publication_date**: the date of publication of the book\n",
    "- **publisher**: the name of the publisher"
   ]
  },
  {
   "cell_type": "code",
   "execution_count": 3,
   "id": "c9510e7c",
   "metadata": {},
   "outputs": [
    {
     "name": "stdout",
     "output_type": "stream",
     "text": [
      "13 columns\n",
      "['12224', 'Streetcar Suburbs: The Process of Growth in Boston  1870-1900', 'Sam Bass Warner', ' Jr./Sam B. Warner', '3.58', '0674842111', '9780674842113', 'en-US', '236', '61', '6', '4/20/2004', 'Harvard University Press'] \n",
      "\n",
      "13 columns\n",
      "['16914', \"The Tolkien Fan's Medieval Reader\", 'David E. Smith (Turgon of TheOneRing.net', ' one of the founding members of this Tolkien website)/Verlyn Flieger/Turgon (=David E. Smith)', '3.58', '1593600119', '9781593600112', 'eng', '400', '26', '4', '4/6/2004', 'Cold Spring Press'] \n",
      "\n",
      "13 columns\n",
      "['22128', 'Patriots (The Coming Collapse)', 'James Wesley', ' Rawles', '3.63', '156384155X', '9781563841552', 'eng', '342', '38', '4', '1/15/1999', 'Huntington House Publishers'] \n",
      "\n",
      "13 columns\n",
      "['34889', \"Brown's Star Atlas: Showing All The Bright Stars With Full Instructions How To Find And Use Them For Navigational Purposes And Department Of Trade Examinations.\", 'Brown', ' Son & Ferguson', '0.00', '0851742718', '9780851742717', 'eng', '49', '0', '0', '5/1/1977', 'Brown Son & Ferguson Ltd.'] \n",
      "\n"
     ]
    }
   ],
   "source": [
    "# check for incorrect structure in the dataset file\n",
    "with open(\"../data/books.csv\", \"r\", encoding=\"utf-8\") as f:\n",
    "    for line in f:\n",
    "        line_list = line.rstrip(\"\\n\").split(\",\") \n",
    "        if len(line_list) != len(header_list):\n",
    "            print(len(line_list), \"columns\")\n",
    "            print(line_list, \"\\n\")        "
   ]
  },
  {
   "cell_type": "markdown",
   "id": "1362a76c",
   "metadata": {},
   "source": [
    "We fin that 4 lines of the dataset file have an incorrect structure (13 columns instead of 12) due to a comma separator that was used inside a field. After checking those books on Goodreads website, we can replace manually those information and fix the errors as follows:\n",
    "\n",
    "- line 3350: the name of the author is duplicated: Sam Bass Warner and Jr./Sam B. Warner. The correct name is `Jr./Sam B. Warner`\n",
    "- line 4704: the authors are `David E. Smith (Turgon of TheOneRing.net, one of the founding members of this Tolkien website)/Verlyn Flieger/Turgon (=David E. Smith)`. We can replace that by: `David E. Smith/Verlyn Flieger`\n",
    "- line 5879: the authors are `James Wesley, Rawles`. We can replace that by `James Wesley/Rawles`\n",
    "- line 8981: the authors are `Brown, Son & Ferguson`. We can replace that by `Brown/Son & Ferguson`"
   ]
  },
  {
   "cell_type": "markdown",
   "id": "c16f2b32",
   "metadata": {},
   "source": [
    "- A new csv file `books_clean.csv` was saved manually in the same directory as the original one"
   ]
  },
  {
   "cell_type": "markdown",
   "id": "caa1f458",
   "metadata": {},
   "source": [
    "## 2. Exploring the data \n",
    "In this section, we will explore every column of the csv file. We will check for any defaults but also every column will be analyzed to understand its implication in the target output (the average rating of a book) "
   ]
  },
  {
   "cell_type": "code",
   "execution_count": 4,
   "id": "526ef451",
   "metadata": {},
   "outputs": [],
   "source": [
    "import pandas as pd"
   ]
  },
  {
   "cell_type": "code",
   "execution_count": 5,
   "id": "db8a3205",
   "metadata": {},
   "outputs": [
    {
     "data": {
      "text/html": [
       "<div>\n",
       "<style scoped>\n",
       "    .dataframe tbody tr th:only-of-type {\n",
       "        vertical-align: middle;\n",
       "    }\n",
       "\n",
       "    .dataframe tbody tr th {\n",
       "        vertical-align: top;\n",
       "    }\n",
       "\n",
       "    .dataframe thead th {\n",
       "        text-align: right;\n",
       "    }\n",
       "</style>\n",
       "<table border=\"1\" class=\"dataframe\">\n",
       "  <thead>\n",
       "    <tr style=\"text-align: right;\">\n",
       "      <th></th>\n",
       "      <th>bookID</th>\n",
       "      <th>title</th>\n",
       "      <th>authors</th>\n",
       "      <th>average_rating</th>\n",
       "      <th>isbn</th>\n",
       "      <th>isbn13</th>\n",
       "      <th>language_code</th>\n",
       "      <th>num_pages</th>\n",
       "      <th>ratings_count</th>\n",
       "      <th>text_reviews_count</th>\n",
       "      <th>publication_date</th>\n",
       "      <th>publisher</th>\n",
       "    </tr>\n",
       "  </thead>\n",
       "  <tbody>\n",
       "    <tr>\n",
       "      <th>0</th>\n",
       "      <td>1</td>\n",
       "      <td>Harry Potter and the Half-Blood Prince (Harry ...</td>\n",
       "      <td>J.K. Rowling/Mary GrandPré</td>\n",
       "      <td>4.57</td>\n",
       "      <td>0439785960</td>\n",
       "      <td>9780439785969</td>\n",
       "      <td>eng</td>\n",
       "      <td>652</td>\n",
       "      <td>2095690</td>\n",
       "      <td>27591</td>\n",
       "      <td>9/16/2006</td>\n",
       "      <td>Scholastic Inc.</td>\n",
       "    </tr>\n",
       "    <tr>\n",
       "      <th>1</th>\n",
       "      <td>2</td>\n",
       "      <td>Harry Potter and the Order of the Phoenix (Har...</td>\n",
       "      <td>J.K. Rowling/Mary GrandPré</td>\n",
       "      <td>4.49</td>\n",
       "      <td>0439358078</td>\n",
       "      <td>9780439358071</td>\n",
       "      <td>eng</td>\n",
       "      <td>870</td>\n",
       "      <td>2153167</td>\n",
       "      <td>29221</td>\n",
       "      <td>9/1/2004</td>\n",
       "      <td>Scholastic Inc.</td>\n",
       "    </tr>\n",
       "    <tr>\n",
       "      <th>2</th>\n",
       "      <td>4</td>\n",
       "      <td>Harry Potter and the Chamber of Secrets (Harry...</td>\n",
       "      <td>J.K. Rowling</td>\n",
       "      <td>4.42</td>\n",
       "      <td>0439554896</td>\n",
       "      <td>9780439554893</td>\n",
       "      <td>eng</td>\n",
       "      <td>352</td>\n",
       "      <td>6333</td>\n",
       "      <td>244</td>\n",
       "      <td>11/1/2003</td>\n",
       "      <td>Scholastic</td>\n",
       "    </tr>\n",
       "  </tbody>\n",
       "</table>\n",
       "</div>"
      ],
      "text/plain": [
       "   bookID                                              title  \\\n",
       "0       1  Harry Potter and the Half-Blood Prince (Harry ...   \n",
       "1       2  Harry Potter and the Order of the Phoenix (Har...   \n",
       "2       4  Harry Potter and the Chamber of Secrets (Harry...   \n",
       "\n",
       "                      authors  average_rating        isbn         isbn13  \\\n",
       "0  J.K. Rowling/Mary GrandPré            4.57  0439785960  9780439785969   \n",
       "1  J.K. Rowling/Mary GrandPré            4.49  0439358078  9780439358071   \n",
       "2                J.K. Rowling            4.42  0439554896  9780439554893   \n",
       "\n",
       "  language_code    num_pages  ratings_count  text_reviews_count  \\\n",
       "0           eng          652        2095690               27591   \n",
       "1           eng          870        2153167               29221   \n",
       "2           eng          352           6333                 244   \n",
       "\n",
       "  publication_date        publisher  \n",
       "0        9/16/2006  Scholastic Inc.  \n",
       "1         9/1/2004  Scholastic Inc.  \n",
       "2        11/1/2003       Scholastic  "
      ]
     },
     "execution_count": 5,
     "metadata": {},
     "output_type": "execute_result"
    }
   ],
   "source": [
    "books_df = pd.read_csv(\"../data/books_clean.csv\", sep=\",\", encoding=\"utf-8\")\n",
    "books_df.head(3)"
   ]
  },
  {
   "cell_type": "code",
   "execution_count": 6,
   "id": "a61ce8df",
   "metadata": {},
   "outputs": [
    {
     "name": "stdout",
     "output_type": "stream",
     "text": [
      "<class 'pandas.core.frame.DataFrame'>\n",
      "RangeIndex: 11127 entries, 0 to 11126\n",
      "Data columns (total 12 columns):\n",
      " #   Column              Non-Null Count  Dtype  \n",
      "---  ------              --------------  -----  \n",
      " 0   bookID              11127 non-null  int64  \n",
      " 1   title               11127 non-null  object \n",
      " 2   authors             11127 non-null  object \n",
      " 3   average_rating      11127 non-null  float64\n",
      " 4   isbn                11127 non-null  object \n",
      " 5   isbn13              11127 non-null  int64  \n",
      " 6   language_code       11127 non-null  object \n",
      " 7     num_pages         11127 non-null  int64  \n",
      " 8   ratings_count       11127 non-null  int64  \n",
      " 9   text_reviews_count  11127 non-null  int64  \n",
      " 10  publication_date    11127 non-null  object \n",
      " 11  publisher           11127 non-null  object \n",
      "dtypes: float64(1), int64(5), object(6)\n",
      "memory usage: 1.0+ MB\n"
     ]
    }
   ],
   "source": [
    "books_df.info()"
   ]
  },
  {
   "cell_type": "markdown",
   "id": "75d412fe",
   "metadata": {},
   "source": [
    "- No null values"
   ]
  },
  {
   "cell_type": "code",
   "execution_count": 7,
   "id": "fe1f88ed",
   "metadata": {},
   "outputs": [
    {
     "data": {
      "text/html": [
       "<div>\n",
       "<style scoped>\n",
       "    .dataframe tbody tr th:only-of-type {\n",
       "        vertical-align: middle;\n",
       "    }\n",
       "\n",
       "    .dataframe tbody tr th {\n",
       "        vertical-align: top;\n",
       "    }\n",
       "\n",
       "    .dataframe thead th {\n",
       "        text-align: right;\n",
       "    }\n",
       "</style>\n",
       "<table border=\"1\" class=\"dataframe\">\n",
       "  <thead>\n",
       "    <tr style=\"text-align: right;\">\n",
       "      <th></th>\n",
       "      <th>bookID</th>\n",
       "      <th>average_rating</th>\n",
       "      <th>isbn13</th>\n",
       "      <th>num_pages</th>\n",
       "      <th>ratings_count</th>\n",
       "      <th>text_reviews_count</th>\n",
       "    </tr>\n",
       "  </thead>\n",
       "  <tbody>\n",
       "    <tr>\n",
       "      <th>count</th>\n",
       "      <td>11127.000000</td>\n",
       "      <td>11127.000000</td>\n",
       "      <td>1.112700e+04</td>\n",
       "      <td>11127.000000</td>\n",
       "      <td>1.112700e+04</td>\n",
       "      <td>11127.000000</td>\n",
       "    </tr>\n",
       "    <tr>\n",
       "      <th>mean</th>\n",
       "      <td>21310.938887</td>\n",
       "      <td>3.933631</td>\n",
       "      <td>9.759888e+12</td>\n",
       "      <td>336.376921</td>\n",
       "      <td>1.793641e+04</td>\n",
       "      <td>541.854498</td>\n",
       "    </tr>\n",
       "    <tr>\n",
       "      <th>std</th>\n",
       "      <td>13093.358023</td>\n",
       "      <td>0.352445</td>\n",
       "      <td>4.428964e+11</td>\n",
       "      <td>241.127305</td>\n",
       "      <td>1.124794e+05</td>\n",
       "      <td>2576.176608</td>\n",
       "    </tr>\n",
       "    <tr>\n",
       "      <th>min</th>\n",
       "      <td>1.000000</td>\n",
       "      <td>0.000000</td>\n",
       "      <td>8.987060e+09</td>\n",
       "      <td>0.000000</td>\n",
       "      <td>0.000000e+00</td>\n",
       "      <td>0.000000</td>\n",
       "    </tr>\n",
       "    <tr>\n",
       "      <th>25%</th>\n",
       "      <td>10287.000000</td>\n",
       "      <td>3.770000</td>\n",
       "      <td>9.780345e+12</td>\n",
       "      <td>192.000000</td>\n",
       "      <td>1.040000e+02</td>\n",
       "      <td>9.000000</td>\n",
       "    </tr>\n",
       "    <tr>\n",
       "      <th>50%</th>\n",
       "      <td>20287.000000</td>\n",
       "      <td>3.960000</td>\n",
       "      <td>9.780586e+12</td>\n",
       "      <td>299.000000</td>\n",
       "      <td>7.450000e+02</td>\n",
       "      <td>46.000000</td>\n",
       "    </tr>\n",
       "    <tr>\n",
       "      <th>75%</th>\n",
       "      <td>32104.500000</td>\n",
       "      <td>4.135000</td>\n",
       "      <td>9.780873e+12</td>\n",
       "      <td>416.000000</td>\n",
       "      <td>4.993500e+03</td>\n",
       "      <td>237.500000</td>\n",
       "    </tr>\n",
       "    <tr>\n",
       "      <th>max</th>\n",
       "      <td>45641.000000</td>\n",
       "      <td>5.000000</td>\n",
       "      <td>9.790008e+12</td>\n",
       "      <td>6576.000000</td>\n",
       "      <td>4.597666e+06</td>\n",
       "      <td>94265.000000</td>\n",
       "    </tr>\n",
       "  </tbody>\n",
       "</table>\n",
       "</div>"
      ],
      "text/plain": [
       "             bookID  average_rating        isbn13     num_pages  \\\n",
       "count  11127.000000    11127.000000  1.112700e+04  11127.000000   \n",
       "mean   21310.938887        3.933631  9.759888e+12    336.376921   \n",
       "std    13093.358023        0.352445  4.428964e+11    241.127305   \n",
       "min        1.000000        0.000000  8.987060e+09      0.000000   \n",
       "25%    10287.000000        3.770000  9.780345e+12    192.000000   \n",
       "50%    20287.000000        3.960000  9.780586e+12    299.000000   \n",
       "75%    32104.500000        4.135000  9.780873e+12    416.000000   \n",
       "max    45641.000000        5.000000  9.790008e+12   6576.000000   \n",
       "\n",
       "       ratings_count  text_reviews_count  \n",
       "count   1.112700e+04        11127.000000  \n",
       "mean    1.793641e+04          541.854498  \n",
       "std     1.124794e+05         2576.176608  \n",
       "min     0.000000e+00            0.000000  \n",
       "25%     1.040000e+02            9.000000  \n",
       "50%     7.450000e+02           46.000000  \n",
       "75%     4.993500e+03          237.500000  \n",
       "max     4.597666e+06        94265.000000  "
      ]
     },
     "execution_count": 7,
     "metadata": {},
     "output_type": "execute_result"
    }
   ],
   "source": [
    "books_df.describe()"
   ]
  },
  {
   "cell_type": "code",
   "execution_count": 8,
   "id": "e90d856b",
   "metadata": {},
   "outputs": [
    {
     "name": "stdout",
     "output_type": "stream",
     "text": [
      "finding duplicates: \n",
      "\n",
      "bookID :  False\n",
      "title :  True\n",
      "authors :  True\n",
      "average_rating :  True\n",
      "isbn :  False\n",
      "isbn13 :  False\n",
      "language_code :  True\n",
      "  num_pages :  True\n",
      "ratings_count :  True\n",
      "text_reviews_count :  True\n",
      "publication_date :  True\n",
      "publisher :  True\n"
     ]
    }
   ],
   "source": [
    "print(\"finding duplicates: \\n\")\n",
    "for col_value in books_df.columns:\n",
    "    print(col_value, \": \", books_df[col_value].duplicated().any())"
   ]
  },
  {
   "cell_type": "markdown",
   "id": "5e1a1609",
   "metadata": {},
   "source": [
    "#### Comments\n",
    "- `title` have long string of characters and is not systematically unique\n",
    "- `authors` can be a single name or multiple names separated by a \"/\" (to be verified)\n",
    "- `average_rating` this is the target attribute. It's values must be between 1 and 5 but we see that the min value is 0\n",
    "- `isbn` and `isbn13` are unique \n",
    "- `language_code` is a categorical value\n",
    "- `num_pages`: should be strictly positive but the min value is 0\n",
    "- `ratings_count` is the count of ratings the min value is 0. does-it correspond to non rated books ?\n",
    "- `text_reviews_count` text reviews are different from ratings. normally it is mandatory to add a rating if one wans to add a text review. (text_reviews_count <= ratings_count ??)\n",
    "- `publisher` is the name of the publisher, sometimes we can find a small alteration like `Scholastic` and `Scholastic inc.`"
   ]
  },
  {
   "cell_type": "markdown",
   "id": "307a95c1",
   "metadata": {},
   "source": [
    "### 1-Titles"
   ]
  },
  {
   "cell_type": "code",
   "execution_count": 9,
   "id": "e75499b3",
   "metadata": {
    "scrolled": true
   },
   "outputs": [
    {
     "data": {
      "text/plain": [
       "['Harry Potter and the Half-Blood Prince (Harry Potter  #6)',\n",
       " 'Harry Potter and the Order of the Phoenix (Harry Potter  #5)',\n",
       " 'Harry Potter and the Chamber of Secrets (Harry Potter  #2)',\n",
       " 'Harry Potter and the Prisoner of Azkaban (Harry Potter  #3)',\n",
       " 'Harry Potter Boxed Set  Books 1-5 (Harry Potter  #1-5)',\n",
       " 'Unauthorized Harry Potter Book Seven News: \"Half-Blood Prince\" Analysis and Speculation',\n",
       " 'Harry Potter Collection (Harry Potter  #1-6)',\n",
       " \"The Ultimate Hitchhiker's Guide: Five Complete Novels and One Story (Hitchhiker's Guide to the Galaxy  #1-5)\",\n",
       " \"The Ultimate Hitchhiker's Guide to the Galaxy (Hitchhiker's Guide to the Galaxy  #1-5)\",\n",
       " \"The Hitchhiker's Guide to the Galaxy (Hitchhiker's Guide to the Galaxy  #1)\",\n",
       " \"The Hitchhiker's Guide to the Galaxy (Hitchhiker's Guide to the Galaxy  #1)\",\n",
       " \"The Ultimate Hitchhiker's Guide (Hitchhiker's Guide to the Galaxy  #1-5)\",\n",
       " 'A Short History of Nearly Everything',\n",
       " \"Bill Bryson's African Diary\",\n",
       " \"Bryson's Dictionary of Troublesome Words: A Writer's Guide to Getting It Right\"]"
      ]
     },
     "execution_count": 9,
     "metadata": {},
     "output_type": "execute_result"
    }
   ],
   "source": [
    "books_df[\"title\"].to_list()[:15]"
   ]
  },
  {
   "cell_type": "markdown",
   "id": "a0e87a12",
   "metadata": {},
   "source": [
    "- The `title` column contains the titles of books\n",
    "- It is a text and can have an alpha numerical values (such the edition of a book) or some indications between parentheses.\n",
    "- the column represents an important information in the dataset, especially for finding duplicates or different editions of a same book\n",
    "- a-priori, the raw text cannot be used as a feature in the model but one can use an external NLP library like [spaCy](https://spacy.io/) in order to extract keywords from the title to be used as a feature."
   ]
  },
  {
   "cell_type": "markdown",
   "id": "90ee663c",
   "metadata": {},
   "source": [
    "### 2- Authors"
   ]
  },
  {
   "cell_type": "code",
   "execution_count": 10,
   "id": "edae2f83",
   "metadata": {},
   "outputs": [
    {
     "data": {
      "text/plain": [
       "['J.K. Rowling/Mary GrandPré',\n",
       " 'J.K. Rowling/Mary GrandPré',\n",
       " 'J.K. Rowling',\n",
       " 'J.K. Rowling/Mary GrandPré',\n",
       " 'J.K. Rowling/Mary GrandPré',\n",
       " 'W. Frederick Zimmerman',\n",
       " 'J.K. Rowling',\n",
       " 'Douglas Adams',\n",
       " 'Douglas Adams',\n",
       " 'Douglas Adams',\n",
       " 'Douglas Adams/Stephen Fry',\n",
       " 'Douglas Adams',\n",
       " 'Bill Bryson',\n",
       " 'Bill Bryson',\n",
       " 'Bill Bryson']"
      ]
     },
     "execution_count": 10,
     "metadata": {},
     "output_type": "execute_result"
    }
   ],
   "source": [
    "books_df[\"authors\"].to_list()[:15]"
   ]
  },
  {
   "cell_type": "markdown",
   "id": "3e58298d",
   "metadata": {},
   "source": [
    "- The `authors` column contains the name(s) of the author(s) of a book\n",
    "- It contains duplicates but it might have some mistypings. We have to do some preprocessing (removing additional spaces and indententions).\n",
    "- Multiple authors are separed by a `/`"
   ]
  },
  {
   "cell_type": "code",
   "execution_count": 11,
   "id": "be65e95b",
   "metadata": {},
   "outputs": [],
   "source": [
    "# get the authors column\n",
    "authors_df = books_df[[\"authors\"]]"
   ]
  },
  {
   "cell_type": "code",
   "execution_count": 12,
   "id": "53cb8fe5",
   "metadata": {},
   "outputs": [
    {
     "name": "stderr",
     "output_type": "stream",
     "text": [
      "C:\\Users\\souhe\\AppData\\Local\\Temp\\ipykernel_99840\\1119710642.py:2: SettingWithCopyWarning: \n",
      "A value is trying to be set on a copy of a slice from a DataFrame.\n",
      "Try using .loc[row_indexer,col_indexer] = value instead\n",
      "\n",
      "See the caveats in the documentation: https://pandas.pydata.org/pandas-docs/stable/user_guide/indexing.html#returning-a-view-versus-a-copy\n",
      "  authors_df.loc[:, \"authors_preprocess\"] = authors_df[\"authors\"].apply(lambda x: \" \".join(x.lower().split()))\n"
     ]
    }
   ],
   "source": [
    "# remove additional whitespaces and indentations from the authors column\n",
    "authors_df.loc[:, \"authors_preprocess\"] = authors_df[\"authors\"].apply(lambda x: \" \".join(x.lower().split()))"
   ]
  },
  {
   "cell_type": "code",
   "execution_count": 13,
   "id": "32c626ec",
   "metadata": {},
   "outputs": [
    {
     "name": "stderr",
     "output_type": "stream",
     "text": [
      "C:\\Users\\souhe\\AppData\\Local\\Temp\\ipykernel_99840\\1973461537.py:2: SettingWithCopyWarning: \n",
      "A value is trying to be set on a copy of a slice from a DataFrame.\n",
      "Try using .loc[row_indexer,col_indexer] = value instead\n",
      "\n",
      "See the caveats in the documentation: https://pandas.pydata.org/pandas-docs/stable/user_guide/indexing.html#returning-a-view-versus-a-copy\n",
      "  authors_df.loc[:, \"number of authors\"] = authors_df[\"authors_preprocess\"].str.count(\"/\").values + 1\n"
     ]
    }
   ],
   "source": [
    "# create a new column  number of authors that counts the number of authors per book\n",
    "authors_df.loc[:, \"number of authors\"] = authors_df[\"authors_preprocess\"].str.count(\"/\").values + 1"
   ]
  },
  {
   "cell_type": "code",
   "execution_count": 14,
   "id": "e2956860",
   "metadata": {},
   "outputs": [
    {
     "data": {
      "text/html": [
       "<div>\n",
       "<style scoped>\n",
       "    .dataframe tbody tr th:only-of-type {\n",
       "        vertical-align: middle;\n",
       "    }\n",
       "\n",
       "    .dataframe tbody tr th {\n",
       "        vertical-align: top;\n",
       "    }\n",
       "\n",
       "    .dataframe thead th {\n",
       "        text-align: right;\n",
       "    }\n",
       "</style>\n",
       "<table border=\"1\" class=\"dataframe\">\n",
       "  <thead>\n",
       "    <tr style=\"text-align: right;\">\n",
       "      <th></th>\n",
       "      <th>authors</th>\n",
       "      <th>authors_preprocess</th>\n",
       "      <th>number of authors</th>\n",
       "    </tr>\n",
       "  </thead>\n",
       "  <tbody>\n",
       "    <tr>\n",
       "      <th>0</th>\n",
       "      <td>J.K. Rowling/Mary GrandPré</td>\n",
       "      <td>j.k. rowling/mary grandpré</td>\n",
       "      <td>2</td>\n",
       "    </tr>\n",
       "    <tr>\n",
       "      <th>1</th>\n",
       "      <td>J.K. Rowling/Mary GrandPré</td>\n",
       "      <td>j.k. rowling/mary grandpré</td>\n",
       "      <td>2</td>\n",
       "    </tr>\n",
       "    <tr>\n",
       "      <th>2</th>\n",
       "      <td>J.K. Rowling</td>\n",
       "      <td>j.k. rowling</td>\n",
       "      <td>1</td>\n",
       "    </tr>\n",
       "    <tr>\n",
       "      <th>3</th>\n",
       "      <td>J.K. Rowling/Mary GrandPré</td>\n",
       "      <td>j.k. rowling/mary grandpré</td>\n",
       "      <td>2</td>\n",
       "    </tr>\n",
       "    <tr>\n",
       "      <th>4</th>\n",
       "      <td>J.K. Rowling/Mary GrandPré</td>\n",
       "      <td>j.k. rowling/mary grandpré</td>\n",
       "      <td>2</td>\n",
       "    </tr>\n",
       "  </tbody>\n",
       "</table>\n",
       "</div>"
      ],
      "text/plain": [
       "                      authors          authors_preprocess  number of authors\n",
       "0  J.K. Rowling/Mary GrandPré  j.k. rowling/mary grandpré                  2\n",
       "1  J.K. Rowling/Mary GrandPré  j.k. rowling/mary grandpré                  2\n",
       "2                J.K. Rowling                j.k. rowling                  1\n",
       "3  J.K. Rowling/Mary GrandPré  j.k. rowling/mary grandpré                  2\n",
       "4  J.K. Rowling/Mary GrandPré  j.k. rowling/mary grandpré                  2"
      ]
     },
     "execution_count": 14,
     "metadata": {},
     "output_type": "execute_result"
    }
   ],
   "source": [
    "authors_df.head()"
   ]
  },
  {
   "cell_type": "code",
   "execution_count": 15,
   "id": "b8e6dd3e",
   "metadata": {},
   "outputs": [
    {
     "data": {
      "text/plain": [
       "<Axes: title={'center': 'distribution of the books according to the number of authors'}, xlabel='number of authors', ylabel='percentage (%) of the dataset'>"
      ]
     },
     "execution_count": 15,
     "metadata": {},
     "output_type": "execute_result"
    },
    {
     "data": {
      "image/png": "[encoded data removed]",
      "text/plain": [
       "<Figure size 640x480 with 1 Axes>"
      ]
     },
     "metadata": {},
     "output_type": "display_data"
    }
   ],
   "source": [
    "# see the number of authors of the books of the dataset\n",
    "authors_df[\"number of authors\"].value_counts(\n",
    "    sort=False, normalize=True\n",
    ").mul(100).sort_index().plot.bar(ylabel=\"percentage (%) of the dataset\", title=\"distribution of the books according to the number of authors\")"
   ]
  },
  {
   "cell_type": "markdown",
   "id": "608249e8",
   "metadata": {},
   "source": [
    "#### Observations\n",
    "- we can see that 60% of the books of the dataset are written by a single author, 30% by 2 authors and near 10% for 3 authors.\n",
    "- In case we want to use the `authors` column as a feature, we have the following possibilities:\n",
    "    - encode the author column as a raw text (doesn't make much sens)\n",
    "    - pick the first author even for multiple authors book and make an ordinal encoding\n",
    "    - pick the 3 first authors and make a one-hot encoding  \n",
    "\n",
    "- but let's see if this information is good or not, let's see the number of occurrences of each author. \n",
    "If the number is low then this column cannot be pertinent and it doesn't make sens to use it. Plus, for the case of a prediction of a book where the author is not in the training set. what will happen ?"
   ]
  },
  {
   "cell_type": "code",
   "execution_count": 16,
   "id": "1bd453b8",
   "metadata": {},
   "outputs": [],
   "source": [
    "# get the list of all authors of the dataset\n",
    "authors_list = []\n",
    "for i in range(len(authors_df)):\n",
    "    if authors_df.loc[i, \"number of authors\"] == 1:\n",
    "        authors_list.append(authors_df.loc[i, \"authors_preprocess\"])\n",
    "    else:\n",
    "        authors_list.extend(authors_df.loc[i, \"authors_preprocess\"].split(\"/\"))\n"
   ]
  },
  {
   "cell_type": "code",
   "execution_count": 17,
   "id": "bab13c1b",
   "metadata": {},
   "outputs": [],
   "source": [
    "# create a new dataframe with the list of all authors\n",
    "authors_list_df = pd.DataFrame({\"name\": authors_list})  "
   ]
  },
  {
   "cell_type": "code",
   "execution_count": 18,
   "id": "2b7ef960",
   "metadata": {},
   "outputs": [
    {
     "name": "stdout",
     "output_type": "stream",
     "text": [
      "The number of distinct authors in the dataset is : 9207\n"
     ]
    }
   ],
   "source": [
    "print(\"The number of distinct authors in the dataset is :\", len(authors_list_df[\"name\"].unique()))"
   ]
  },
  {
   "cell_type": "markdown",
   "id": "765ffed1",
   "metadata": {},
   "source": [
    "!!! 9207 authors in dataset. This number is too large to be used in a one-hot encoding process. (imagine 9207 additional columns in the dataset)."
   ]
  },
  {
   "cell_type": "code",
   "execution_count": 19,
   "id": "25f77ba9",
   "metadata": {},
   "outputs": [
    {
     "name": "stdout",
     "output_type": "stream",
     "text": [
      "name               \n",
      "stephen king           99\n",
      "william shakespeare    93\n",
      "j.r.r. tolkien         55\n",
      "sandra brown           48\n",
      "p.g. wodehouse         47\n",
      "                       ..\n",
      "jack weatherford        1\n",
      "jack nimersheim         1\n",
      "jack meadows            1\n",
      "jack lane               1\n",
      "趙丕慧                     1\n",
      "Name: count, Length: 9207, dtype: int64\n"
     ]
    }
   ],
   "source": [
    "# let's count the number of occurrences of the authors\n",
    "author_counts = authors_list_df.value_counts(sort=True)\n",
    "print(author_counts)"
   ]
  },
  {
   "cell_type": "markdown",
   "id": "c53bdc18",
   "metadata": {},
   "source": [
    "The results above show the number of occurrences of the list of authors in the dataset. We see that a mixmum occurrences is 99 times which can be explained by different books or different editions as well as collaborative books."
   ]
  },
  {
   "cell_type": "code",
   "execution_count": 20,
   "id": "15aa9be5",
   "metadata": {},
   "outputs": [
    {
     "data": {
      "text/plain": [
       "<Axes: title={'center': 'distribution of author occurrences in the dataset'}, xlabel='number of occurrences', ylabel='Frequency'>"
      ]
     },
     "execution_count": 20,
     "metadata": {},
     "output_type": "execute_result"
    },
    {
     "data": {
      "image/png": "[encoded data removed]",
      "text/plain": [
       "<Figure size 640x480 with 1 Axes>"
      ]
     },
     "metadata": {},
     "output_type": "display_data"
    }
   ],
   "source": [
    "author_counts.plot.hist(\n",
    "    bins=100, \n",
    "    title=\"distribution of author occurrences in the dataset\",\n",
    "    xlabel=\"number of occurrences\"\n",
    ")"
   ]
  },
  {
   "cell_type": "code",
   "execution_count": 21,
   "id": "ed4db991",
   "metadata": {},
   "outputs": [
    {
     "data": {
      "text/plain": [
       "count\n",
       "1     71.706310\n",
       "2     12.349299\n",
       "3      4.941892\n",
       "4      2.715325\n",
       "5      1.726947\n",
       "6      1.151298\n",
       "8      1.010101\n",
       "7      0.934072\n",
       "9      0.510481\n",
       "10     0.477897\n",
       "11     0.401868\n",
       "13     0.304116\n",
       "12     0.195503\n",
       "15     0.152058\n",
       "19     0.152058\n",
       "14     0.152058\n",
       "17     0.141197\n",
       "16     0.130336\n",
       "21     0.108613\n",
       "18     0.076029\n",
       "22     0.065168\n",
       "20     0.065168\n",
       "26     0.054307\n",
       "28     0.054307\n",
       "25     0.043445\n",
       "27     0.043445\n",
       "29     0.032584\n",
       "31     0.032584\n",
       "33     0.032584\n",
       "23     0.021723\n",
       "24     0.021723\n",
       "35     0.021723\n",
       "43     0.021723\n",
       "47     0.021723\n",
       "93     0.010861\n",
       "30     0.010861\n",
       "34     0.010861\n",
       "37     0.010861\n",
       "38     0.010861\n",
       "39     0.010861\n",
       "40     0.010861\n",
       "44     0.010861\n",
       "46     0.010861\n",
       "48     0.010861\n",
       "55     0.010861\n",
       "99     0.010861\n",
       "Name: count, dtype: float64"
      ]
     },
     "execution_count": 21,
     "metadata": {},
     "output_type": "execute_result"
    }
   ],
   "source": [
    "author_counts.value_counts(sort=True) / author_counts.value_counts().sum() * 100"
   ]
  },
  {
   "cell_type": "markdown",
   "id": "e1a282fc",
   "metadata": {},
   "source": [
    "- we observe that 71% of the authors appear only one time in the database. Only few authors appear multiple times. This means that the column \"authors\" mostly contains distinct values (author names) and then cannot be used as a feature or else it will create an important biais."
   ]
  },
  {
   "cell_type": "markdown",
   "id": "2d078101",
   "metadata": {},
   "source": [
    "### 2. publisher\n",
    "- A publisher can appear many times for different books. Let's see the distribution of publisher names"
   ]
  },
  {
   "cell_type": "code",
   "execution_count": 22,
   "id": "d551a7ad",
   "metadata": {},
   "outputs": [
    {
     "name": "stderr",
     "output_type": "stream",
     "text": [
      "C:\\Users\\souhe\\AppData\\Local\\Temp\\ipykernel_99840\\3590932602.py:4: SettingWithCopyWarning: \n",
      "A value is trying to be set on a copy of a slice from a DataFrame.\n",
      "Try using .loc[row_indexer,col_indexer] = value instead\n",
      "\n",
      "See the caveats in the documentation: https://pandas.pydata.org/pandas-docs/stable/user_guide/indexing.html#returning-a-view-versus-a-copy\n",
      "  publisher_df.loc[:, \"publisher_preprocess\"] = publisher_df[\"publisher\"].apply(lambda x: \" \".join(x.lower().split()))\n"
     ]
    }
   ],
   "source": [
    "# get the column publisher\n",
    "publisher_df = books_df[[\"publisher\"]]\n",
    "# remove additional whitespaces and indentations from the publisher column\n",
    "publisher_df.loc[:, \"publisher_preprocess\"] = publisher_df[\"publisher\"].apply(lambda x: \" \".join(x.lower().split()))"
   ]
  },
  {
   "cell_type": "code",
   "execution_count": 23,
   "id": "1b53b5a4",
   "metadata": {},
   "outputs": [
    {
     "data": {
      "text/plain": [
       "publisher_preprocess\n",
       "vintage                 318\n",
       "penguin books           261\n",
       "penguin classics        184\n",
       "mariner books           150\n",
       "ballantine books        145\n",
       "                       ... \n",
       "night shade               1\n",
       "nicholas brealey          1\n",
       "distribooks               1\n",
       "newmarket                 1\n",
       "liguori publications      1\n",
       "Name: count, Length: 2255, dtype: int64"
      ]
     },
     "execution_count": 23,
     "metadata": {},
     "output_type": "execute_result"
    }
   ],
   "source": [
    "publisher_df[[\"publisher_preprocess\"]].value_counts()"
   ]
  },
  {
   "cell_type": "code",
   "execution_count": 24,
   "id": "580af58c",
   "metadata": {
    "scrolled": false
   },
   "outputs": [
    {
     "data": {
      "text/plain": [
       "<Axes: title={'center': 'number of occurrences of publishers'}, xlabel='publisher_preprocess', ylabel='frequency'>"
      ]
     },
     "execution_count": 24,
     "metadata": {},
     "output_type": "execute_result"
    },
    {
     "data": {
      "image/png": "[encoded data removed]",
      "text/plain": [
       "<Figure size 640x480 with 1 Axes>"
      ]
     },
     "metadata": {},
     "output_type": "display_data"
    }
   ],
   "source": [
    "publisher_df[[\"publisher_preprocess\"]].value_counts().plot(\n",
    "    kind=\"bar\", xticks=[], title=\"number of occurrences of publishers\", ylabel=\"frequency\", grid=True)"
   ]
  },
  {
   "cell_type": "code",
   "execution_count": 25,
   "id": "216082ee",
   "metadata": {},
   "outputs": [
    {
     "data": {
      "text/plain": [
       "<Axes: title={'center': 'distribution of publisher occurrences in the dataset'}, xlabel='number of occurrences', ylabel='frequency'>"
      ]
     },
     "execution_count": 25,
     "metadata": {},
     "output_type": "execute_result"
    },
    {
     "data": {
      "image/png": "[encoded data removed]",
      "text/plain": [
       "<Figure size 640x480 with 1 Axes>"
      ]
     },
     "metadata": {},
     "output_type": "display_data"
    }
   ],
   "source": [
    "publisher_df.value_counts().value_counts().plot.bar(\n",
    "    title=\"distribution of publisher occurrences in the dataset\",\n",
    "    ylabel=\"frequency\",\n",
    "    xlabel=\"number of occurrences\",\n",
    "    grid=True\n",
    ")"
   ]
  },
  {
   "cell_type": "markdown",
   "id": "edcbccd4",
   "metadata": {},
   "source": [
    "We can observe that the majority of the dataset is composed of publishers used only one time in the database. \n",
    "This means that the dataset contains principally distinct publisher names and then it cannot be used as a feature, adding that the database is unbalanced (in term of occurrences)."
   ]
  },
  {
   "cell_type": "markdown",
   "id": "c80fe91f",
   "metadata": {},
   "source": [
    "### 3. Average rating\n",
    "this is the **target value**\n",
    "\n",
    "- An important information to have is that ratings in goodreads website can only be between 1 and 5.\n",
    "- What about books having rating 0 or less than  1? is it a default value for unrated books ?"
   ]
  },
  {
   "cell_type": "code",
   "execution_count": 26,
   "id": "fe966fef",
   "metadata": {},
   "outputs": [
    {
     "data": {
      "text/plain": [
       "count    11127.000000\n",
       "mean         3.933631\n",
       "std          0.352445\n",
       "min          0.000000\n",
       "25%          3.770000\n",
       "50%          3.960000\n",
       "75%          4.135000\n",
       "max          5.000000\n",
       "Name: average_rating, dtype: float64"
      ]
     },
     "execution_count": 26,
     "metadata": {},
     "output_type": "execute_result"
    }
   ],
   "source": [
    "books_df[\"average_rating\"].describe()"
   ]
  },
  {
   "cell_type": "code",
   "execution_count": 27,
   "id": "2702d7e8",
   "metadata": {},
   "outputs": [
    {
     "data": {
      "text/plain": [
       "265      0.0\n",
       "375      0.0\n",
       "987      0.0\n",
       "2532     0.0\n",
       "2533     0.0\n",
       "2758     0.0\n",
       "3493     0.0\n",
       "4242     0.0\n",
       "4678     0.0\n",
       "5325     0.0\n",
       "6383     0.0\n",
       "6561     0.0\n",
       "6862     0.0\n",
       "6880     0.0\n",
       "7147     0.0\n",
       "7402     0.0\n",
       "7576     0.0\n",
       "7637     0.0\n",
       "7800     0.0\n",
       "8979     0.0\n",
       "9335     0.0\n",
       "9441     0.0\n",
       "10142    0.0\n",
       "10501    0.0\n",
       "10921    0.0\n",
       "11031    0.0\n",
       "Name: average_rating, dtype: float64"
      ]
     },
     "execution_count": 27,
     "metadata": {},
     "output_type": "execute_result"
    }
   ],
   "source": [
    "# let's see the rows that have rating less than 1\n",
    "books_df.loc[books_df[\"average_rating\"] < 1][\"average_rating\"]"
   ]
  },
  {
   "cell_type": "code",
   "execution_count": 28,
   "id": "ae67e5ab",
   "metadata": {},
   "outputs": [
    {
     "data": {
      "text/plain": [
       "26"
      ]
     },
     "execution_count": 28,
     "metadata": {},
     "output_type": "execute_result"
    }
   ],
   "source": [
    "len(books_df.loc[books_df[\"average_rating\"] < 1][\"average_rating\"])"
   ]
  },
  {
   "cell_type": "markdown",
   "id": "3a1f4bb0",
   "metadata": {},
   "source": [
    "- We can see that 26 rows have a rating value less than 1.\n",
    "- the value < 1 are only 0 values. This means that it most likely is a default value for yet unrated books. "
   ]
  },
  {
   "cell_type": "code",
   "execution_count": 29,
   "id": "a4ee48b4",
   "metadata": {},
   "outputs": [
    {
     "data": {
      "text/html": [
       "<div>\n",
       "<style scoped>\n",
       "    .dataframe tbody tr th:only-of-type {\n",
       "        vertical-align: middle;\n",
       "    }\n",
       "\n",
       "    .dataframe tbody tr th {\n",
       "        vertical-align: top;\n",
       "    }\n",
       "\n",
       "    .dataframe thead th {\n",
       "        text-align: right;\n",
       "    }\n",
       "</style>\n",
       "<table border=\"1\" class=\"dataframe\">\n",
       "  <thead>\n",
       "    <tr style=\"text-align: right;\">\n",
       "      <th></th>\n",
       "      <th>bookID</th>\n",
       "      <th>title</th>\n",
       "      <th>authors</th>\n",
       "      <th>average_rating</th>\n",
       "      <th>isbn</th>\n",
       "      <th>isbn13</th>\n",
       "      <th>language_code</th>\n",
       "      <th>num_pages</th>\n",
       "      <th>ratings_count</th>\n",
       "      <th>text_reviews_count</th>\n",
       "      <th>publication_date</th>\n",
       "      <th>publisher</th>\n",
       "    </tr>\n",
       "  </thead>\n",
       "  <tbody>\n",
       "    <tr>\n",
       "      <th>265</th>\n",
       "      <td>799</td>\n",
       "      <td>Out to Eat London 2002 (Lonely Planet Out to Eat)</td>\n",
       "      <td>Lonely Planet/Mark Honan</td>\n",
       "      <td>0.0</td>\n",
       "      <td>1740592050</td>\n",
       "      <td>9781740592055</td>\n",
       "      <td>eng</td>\n",
       "      <td>295</td>\n",
       "      <td>0</td>\n",
       "      <td>0</td>\n",
       "      <td>9/1/2001</td>\n",
       "      <td>Lonely Planet</td>\n",
       "    </tr>\n",
       "    <tr>\n",
       "      <th>375</th>\n",
       "      <td>1302</td>\n",
       "      <td>Juiced Official Strategy Guide</td>\n",
       "      <td>Doug Walsh</td>\n",
       "      <td>0.0</td>\n",
       "      <td>0744005612</td>\n",
       "      <td>9780744005615</td>\n",
       "      <td>eng</td>\n",
       "      <td>112</td>\n",
       "      <td>0</td>\n",
       "      <td>0</td>\n",
       "      <td>6/1/2005</td>\n",
       "      <td>BradyGames</td>\n",
       "    </tr>\n",
       "    <tr>\n",
       "      <th>987</th>\n",
       "      <td>3351</td>\n",
       "      <td>Open City 6: The Only Woman He Ever Left</td>\n",
       "      <td>Open City Magazine/James Purdy/Daniel Pinchbec...</td>\n",
       "      <td>0.0</td>\n",
       "      <td>189044717X</td>\n",
       "      <td>9781890447175</td>\n",
       "      <td>eng</td>\n",
       "      <td>200</td>\n",
       "      <td>0</td>\n",
       "      <td>0</td>\n",
       "      <td>10/13/2000</td>\n",
       "      <td>Grove Press  Open City Books</td>\n",
       "    </tr>\n",
       "    <tr>\n",
       "      <th>2532</th>\n",
       "      <td>9337</td>\n",
       "      <td>How To Meditate: An Anthology Of Talks On Medi...</td>\n",
       "      <td>Frederick P. Lenz</td>\n",
       "      <td>0.0</td>\n",
       "      <td>1932206108</td>\n",
       "      <td>9781932206104</td>\n",
       "      <td>eng</td>\n",
       "      <td>228</td>\n",
       "      <td>0</td>\n",
       "      <td>0</td>\n",
       "      <td>1/1/2004</td>\n",
       "      <td>Frederick P. Lenz Foundation for American Budd...</td>\n",
       "    </tr>\n",
       "    <tr>\n",
       "      <th>2533</th>\n",
       "      <td>9338</td>\n",
       "      <td>Insights: Talks On The Nature Of Existence</td>\n",
       "      <td>Frederick P. Lenz</td>\n",
       "      <td>0.0</td>\n",
       "      <td>1932206086</td>\n",
       "      <td>9781932206081</td>\n",
       "      <td>eng</td>\n",
       "      <td>304</td>\n",
       "      <td>0</td>\n",
       "      <td>0</td>\n",
       "      <td>1/1/2003</td>\n",
       "      <td>Frederick P. Lenz Foundation for American Budd...</td>\n",
       "    </tr>\n",
       "    <tr>\n",
       "      <th>2758</th>\n",
       "      <td>10200</td>\n",
       "      <td>Venac sonetnih venaca; Puževa srma</td>\n",
       "      <td>Dobrica Erić</td>\n",
       "      <td>0.0</td>\n",
       "      <td>8644101277</td>\n",
       "      <td>9788644101277</td>\n",
       "      <td>srp</td>\n",
       "      <td>222</td>\n",
       "      <td>0</td>\n",
       "      <td>0</td>\n",
       "      <td>1/1/1996</td>\n",
       "      <td>Izdavačka agencija \"Draganić\"</td>\n",
       "    </tr>\n",
       "    <tr>\n",
       "      <th>3493</th>\n",
       "      <td>12712</td>\n",
       "      <td>Brodie's notes on Aldous Huxley's brave new world</td>\n",
       "      <td>Graham Handley</td>\n",
       "      <td>0.0</td>\n",
       "      <td>0333581296</td>\n",
       "      <td>9780333581292</td>\n",
       "      <td>eng</td>\n",
       "      <td>71</td>\n",
       "      <td>0</td>\n",
       "      <td>0</td>\n",
       "      <td>8/20/1992</td>\n",
       "      <td>Macmillan</td>\n",
       "    </tr>\n",
       "    <tr>\n",
       "      <th>4242</th>\n",
       "      <td>15186</td>\n",
       "      <td>American Film Guide</td>\n",
       "      <td>Frank N. Magill</td>\n",
       "      <td>0.0</td>\n",
       "      <td>0893562505</td>\n",
       "      <td>9780893562502</td>\n",
       "      <td>eng</td>\n",
       "      <td>5</td>\n",
       "      <td>0</td>\n",
       "      <td>0</td>\n",
       "      <td>1/1/1983</td>\n",
       "      <td>Salem Press Inc</td>\n",
       "    </tr>\n",
       "    <tr>\n",
       "      <th>4678</th>\n",
       "      <td>16806</td>\n",
       "      <td>The Man and the Author: John Milton: Twentieth...</td>\n",
       "      <td>J. Martin Evans</td>\n",
       "      <td>0.0</td>\n",
       "      <td>0415940478</td>\n",
       "      <td>9780415940474</td>\n",
       "      <td>eng</td>\n",
       "      <td>386</td>\n",
       "      <td>0</td>\n",
       "      <td>0</td>\n",
       "      <td>11/8/2002</td>\n",
       "      <td>Routledge</td>\n",
       "    </tr>\n",
       "    <tr>\n",
       "      <th>5325</th>\n",
       "      <td>19257</td>\n",
       "      <td>Canopy: A Work for Voice and Light in Harvard ...</td>\n",
       "      <td>David   Ward/Parveen Adams/Seamus Heaney/Ivan ...</td>\n",
       "      <td>0.0</td>\n",
       "      <td>0916724948</td>\n",
       "      <td>9780916724948</td>\n",
       "      <td>eng</td>\n",
       "      <td>63</td>\n",
       "      <td>0</td>\n",
       "      <td>0</td>\n",
       "      <td>12/31/1997</td>\n",
       "      <td>Arts Publications</td>\n",
       "    </tr>\n",
       "    <tr>\n",
       "      <th>6383</th>\n",
       "      <td>24010</td>\n",
       "      <td>Laguna  I Love You: The Best of \"Our Town\"</td>\n",
       "      <td>John Weld/Phil Interlandi</td>\n",
       "      <td>0.0</td>\n",
       "      <td>1564741575</td>\n",
       "      <td>9781564741578</td>\n",
       "      <td>eng</td>\n",
       "      <td>285</td>\n",
       "      <td>0</td>\n",
       "      <td>0</td>\n",
       "      <td>3/1/1996</td>\n",
       "      <td>Fithian Press</td>\n",
       "    </tr>\n",
       "    <tr>\n",
       "      <th>6561</th>\n",
       "      <td>24749</td>\n",
       "      <td>American Writers  Supplement VIII</td>\n",
       "      <td>Jay Parini/August Wilson</td>\n",
       "      <td>0.0</td>\n",
       "      <td>0684806371</td>\n",
       "      <td>9780684806372</td>\n",
       "      <td>eng</td>\n",
       "      <td>400</td>\n",
       "      <td>0</td>\n",
       "      <td>0</td>\n",
       "      <td>5/1/2001</td>\n",
       "      <td>Gale Cengage</td>\n",
       "    </tr>\n",
       "    <tr>\n",
       "      <th>6862</th>\n",
       "      <td>25841</td>\n",
       "      <td>The Road To War  1933 39</td>\n",
       "      <td>Andrew      Hunt</td>\n",
       "      <td>0.0</td>\n",
       "      <td>0340774770</td>\n",
       "      <td>9780340774779</td>\n",
       "      <td>eng</td>\n",
       "      <td>128</td>\n",
       "      <td>0</td>\n",
       "      <td>0</td>\n",
       "      <td>4/1/2000</td>\n",
       "      <td>Hodder &amp; Stoughton Educational Division</td>\n",
       "    </tr>\n",
       "    <tr>\n",
       "      <th>6880</th>\n",
       "      <td>25903</td>\n",
       "      <td>I'll Be Home Before Midnight and I Won't Get P...</td>\n",
       "      <td>Anthony E. Wolf</td>\n",
       "      <td>0.0</td>\n",
       "      <td>0394755669</td>\n",
       "      <td>9780394755663</td>\n",
       "      <td>eng</td>\n",
       "      <td>288</td>\n",
       "      <td>0</td>\n",
       "      <td>0</td>\n",
       "      <td>5/12/1988</td>\n",
       "      <td>Knopf Doubleday Publishing Group</td>\n",
       "    </tr>\n",
       "    <tr>\n",
       "      <th>7147</th>\n",
       "      <td>27416</td>\n",
       "      <td>Mythographi Graeci 1: Apollodori Bibliotheca  ...</td>\n",
       "      <td>Apollodorus/Richard Wagner</td>\n",
       "      <td>0.0</td>\n",
       "      <td>3598715439</td>\n",
       "      <td>9783598715433</td>\n",
       "      <td>grc</td>\n",
       "      <td>335</td>\n",
       "      <td>0</td>\n",
       "      <td>0</td>\n",
       "      <td>7/15/1998</td>\n",
       "      <td>K.G. Saur Verlag</td>\n",
       "    </tr>\n",
       "    <tr>\n",
       "      <th>7402</th>\n",
       "      <td>28467</td>\n",
       "      <td>Sclerotherapy and vein treatment</td>\n",
       "      <td>Robert A. Weiss/Margaret A. Weiss/Karen L. Bea...</td>\n",
       "      <td>0.0</td>\n",
       "      <td>0071485422</td>\n",
       "      <td>9780071485425</td>\n",
       "      <td>eng</td>\n",
       "      <td>248</td>\n",
       "      <td>0</td>\n",
       "      <td>0</td>\n",
       "      <td>12/30/2011</td>\n",
       "      <td>McGraw-Hill Professional Publishing</td>\n",
       "    </tr>\n",
       "    <tr>\n",
       "      <th>7576</th>\n",
       "      <td>29091</td>\n",
       "      <td>The Berlin Phenomenology</td>\n",
       "      <td>Georg Wilhelm Friedrich Hegel/Michael John Petry</td>\n",
       "      <td>0.0</td>\n",
       "      <td>9027712050</td>\n",
       "      <td>9789027712059</td>\n",
       "      <td>eng</td>\n",
       "      <td>210</td>\n",
       "      <td>0</td>\n",
       "      <td>0</td>\n",
       "      <td>5/31/1981</td>\n",
       "      <td>Springer</td>\n",
       "    </tr>\n",
       "    <tr>\n",
       "      <th>7637</th>\n",
       "      <td>29404</td>\n",
       "      <td>Your Child and Jesus: A Family Activity Book</td>\n",
       "      <td>Rick Osborne/Kevin Miller</td>\n",
       "      <td>0.0</td>\n",
       "      <td>080242855X</td>\n",
       "      <td>9780802428554</td>\n",
       "      <td>eng</td>\n",
       "      <td>112</td>\n",
       "      <td>0</td>\n",
       "      <td>0</td>\n",
       "      <td>9/13/1999</td>\n",
       "      <td>Moody Publishers</td>\n",
       "    </tr>\n",
       "    <tr>\n",
       "      <th>7800</th>\n",
       "      <td>30080</td>\n",
       "      <td>Beckett Football Card Price Guide</td>\n",
       "      <td>Dan Hitt/James Beckett III</td>\n",
       "      <td>0.0</td>\n",
       "      <td>1930692471</td>\n",
       "      <td>9781930692473</td>\n",
       "      <td>eng</td>\n",
       "      <td>830</td>\n",
       "      <td>0</td>\n",
       "      <td>0</td>\n",
       "      <td>9/1/2006</td>\n",
       "      <td>Beckett Media</td>\n",
       "    </tr>\n",
       "    <tr>\n",
       "      <th>8979</th>\n",
       "      <td>34889</td>\n",
       "      <td>Brown's Star Atlas: Showing All The Bright Sta...</td>\n",
       "      <td>Brown/Son &amp; Ferguson</td>\n",
       "      <td>0.0</td>\n",
       "      <td>0851742718</td>\n",
       "      <td>9780851742717</td>\n",
       "      <td>eng</td>\n",
       "      <td>49</td>\n",
       "      <td>0</td>\n",
       "      <td>0</td>\n",
       "      <td>5/1/1977</td>\n",
       "      <td>Brown Son &amp; Ferguson Ltd.</td>\n",
       "    </tr>\n",
       "    <tr>\n",
       "      <th>9335</th>\n",
       "      <td>36946</td>\n",
       "      <td>Random House Crossword Mega Omnibus  Volume 1</td>\n",
       "      <td>United Feature Syndication</td>\n",
       "      <td>0.0</td>\n",
       "      <td>081292763X</td>\n",
       "      <td>9780812927634</td>\n",
       "      <td>eng</td>\n",
       "      <td>336</td>\n",
       "      <td>0</td>\n",
       "      <td>0</td>\n",
       "      <td>7/22/1997</td>\n",
       "      <td>Random House Puzzles &amp; Games</td>\n",
       "    </tr>\n",
       "    <tr>\n",
       "      <th>9441</th>\n",
       "      <td>37467</td>\n",
       "      <td>Classroom Interactions as Cross-Cultural Encou...</td>\n",
       "      <td>Jasmine C.M. Luk/Angel M.Y. Lin</td>\n",
       "      <td>0.0</td>\n",
       "      <td>0805850848</td>\n",
       "      <td>9780805850840</td>\n",
       "      <td>eng</td>\n",
       "      <td>241</td>\n",
       "      <td>0</td>\n",
       "      <td>0</td>\n",
       "      <td>8/5/2006</td>\n",
       "      <td>Routledge</td>\n",
       "    </tr>\n",
       "    <tr>\n",
       "      <th>10142</th>\n",
       "      <td>41044</td>\n",
       "      <td>Day and Night</td>\n",
       "      <td>Better Homes and Gardens</td>\n",
       "      <td>0.0</td>\n",
       "      <td>0696018829</td>\n",
       "      <td>9780696018824</td>\n",
       "      <td>eng</td>\n",
       "      <td>32</td>\n",
       "      <td>0</td>\n",
       "      <td>1</td>\n",
       "      <td>3/1/1989</td>\n",
       "      <td>Meredith Corporation</td>\n",
       "    </tr>\n",
       "    <tr>\n",
       "      <th>10501</th>\n",
       "      <td>42758</td>\n",
       "      <td>The Fantastic Vampire: Studies in the Children...</td>\n",
       "      <td>James Craig Holte</td>\n",
       "      <td>0.0</td>\n",
       "      <td>0313309337</td>\n",
       "      <td>9780313309335</td>\n",
       "      <td>eng</td>\n",
       "      <td>176</td>\n",
       "      <td>0</td>\n",
       "      <td>0</td>\n",
       "      <td>3/30/2002</td>\n",
       "      <td>Greenwood Press</td>\n",
       "    </tr>\n",
       "    <tr>\n",
       "      <th>10921</th>\n",
       "      <td>44705</td>\n",
       "      <td>The Leadership Challenge: Skills for Taking Ch...</td>\n",
       "      <td>Warren G. Bennis</td>\n",
       "      <td>0.0</td>\n",
       "      <td>088684049X</td>\n",
       "      <td>9780886840495</td>\n",
       "      <td>eng</td>\n",
       "      <td>60</td>\n",
       "      <td>0</td>\n",
       "      <td>0</td>\n",
       "      <td>12/1/1985</td>\n",
       "      <td>AMR/Advanced Management Reports</td>\n",
       "    </tr>\n",
       "    <tr>\n",
       "      <th>11031</th>\n",
       "      <td>45259</td>\n",
       "      <td>Anthony Thwaite: In Conversation With Peter Da...</td>\n",
       "      <td>Peter  Dale/Ian          Hamilton/Anthony Thwaite</td>\n",
       "      <td>0.0</td>\n",
       "      <td>0953284123</td>\n",
       "      <td>9780953284122</td>\n",
       "      <td>eng</td>\n",
       "      <td>96</td>\n",
       "      <td>0</td>\n",
       "      <td>0</td>\n",
       "      <td>12/9/1999</td>\n",
       "      <td>Between the Lines Productions</td>\n",
       "    </tr>\n",
       "  </tbody>\n",
       "</table>\n",
       "</div>"
      ],
      "text/plain": [
       "       bookID                                              title  \\\n",
       "265       799  Out to Eat London 2002 (Lonely Planet Out to Eat)   \n",
       "375      1302                     Juiced Official Strategy Guide   \n",
       "987      3351           Open City 6: The Only Woman He Ever Left   \n",
       "2532     9337  How To Meditate: An Anthology Of Talks On Medi...   \n",
       "2533     9338         Insights: Talks On The Nature Of Existence   \n",
       "2758    10200                Venac sonetnih venaca; Puževa srma   \n",
       "3493    12712  Brodie's notes on Aldous Huxley's brave new world   \n",
       "4242    15186                                American Film Guide   \n",
       "4678    16806  The Man and the Author: John Milton: Twentieth...   \n",
       "5325    19257  Canopy: A Work for Voice and Light in Harvard ...   \n",
       "6383    24010         Laguna  I Love You: The Best of \"Our Town\"   \n",
       "6561    24749                  American Writers  Supplement VIII   \n",
       "6862    25841                           The Road To War  1933 39   \n",
       "6880    25903  I'll Be Home Before Midnight and I Won't Get P...   \n",
       "7147    27416  Mythographi Graeci 1: Apollodori Bibliotheca  ...   \n",
       "7402    28467                   Sclerotherapy and vein treatment   \n",
       "7576    29091                           The Berlin Phenomenology   \n",
       "7637    29404       Your Child and Jesus: A Family Activity Book   \n",
       "7800    30080                  Beckett Football Card Price Guide   \n",
       "8979    34889  Brown's Star Atlas: Showing All The Bright Sta...   \n",
       "9335    36946      Random House Crossword Mega Omnibus  Volume 1   \n",
       "9441    37467  Classroom Interactions as Cross-Cultural Encou...   \n",
       "10142   41044                                      Day and Night   \n",
       "10501   42758  The Fantastic Vampire: Studies in the Children...   \n",
       "10921   44705  The Leadership Challenge: Skills for Taking Ch...   \n",
       "11031   45259  Anthony Thwaite: In Conversation With Peter Da...   \n",
       "\n",
       "                                                 authors  average_rating  \\\n",
       "265                             Lonely Planet/Mark Honan             0.0   \n",
       "375                                           Doug Walsh             0.0   \n",
       "987    Open City Magazine/James Purdy/Daniel Pinchbec...             0.0   \n",
       "2532                                   Frederick P. Lenz             0.0   \n",
       "2533                                   Frederick P. Lenz             0.0   \n",
       "2758                                        Dobrica Erić             0.0   \n",
       "3493                                      Graham Handley             0.0   \n",
       "4242                                     Frank N. Magill             0.0   \n",
       "4678                                     J. Martin Evans             0.0   \n",
       "5325   David   Ward/Parveen Adams/Seamus Heaney/Ivan ...             0.0   \n",
       "6383                           John Weld/Phil Interlandi             0.0   \n",
       "6561                            Jay Parini/August Wilson             0.0   \n",
       "6862                                    Andrew      Hunt             0.0   \n",
       "6880                                     Anthony E. Wolf             0.0   \n",
       "7147                          Apollodorus/Richard Wagner             0.0   \n",
       "7402   Robert A. Weiss/Margaret A. Weiss/Karen L. Bea...             0.0   \n",
       "7576    Georg Wilhelm Friedrich Hegel/Michael John Petry             0.0   \n",
       "7637                           Rick Osborne/Kevin Miller             0.0   \n",
       "7800                          Dan Hitt/James Beckett III             0.0   \n",
       "8979                                Brown/Son & Ferguson             0.0   \n",
       "9335                          United Feature Syndication             0.0   \n",
       "9441                     Jasmine C.M. Luk/Angel M.Y. Lin             0.0   \n",
       "10142                           Better Homes and Gardens             0.0   \n",
       "10501                                  James Craig Holte             0.0   \n",
       "10921                                   Warren G. Bennis             0.0   \n",
       "11031  Peter  Dale/Ian          Hamilton/Anthony Thwaite             0.0   \n",
       "\n",
       "             isbn         isbn13 language_code    num_pages  ratings_count  \\\n",
       "265    1740592050  9781740592055           eng          295              0   \n",
       "375    0744005612  9780744005615           eng          112              0   \n",
       "987    189044717X  9781890447175           eng          200              0   \n",
       "2532   1932206108  9781932206104           eng          228              0   \n",
       "2533   1932206086  9781932206081           eng          304              0   \n",
       "2758   8644101277  9788644101277           srp          222              0   \n",
       "3493   0333581296  9780333581292           eng           71              0   \n",
       "4242   0893562505  9780893562502           eng            5              0   \n",
       "4678   0415940478  9780415940474           eng          386              0   \n",
       "5325   0916724948  9780916724948           eng           63              0   \n",
       "6383   1564741575  9781564741578           eng          285              0   \n",
       "6561   0684806371  9780684806372           eng          400              0   \n",
       "6862   0340774770  9780340774779           eng          128              0   \n",
       "6880   0394755669  9780394755663           eng          288              0   \n",
       "7147   3598715439  9783598715433           grc          335              0   \n",
       "7402   0071485422  9780071485425           eng          248              0   \n",
       "7576   9027712050  9789027712059           eng          210              0   \n",
       "7637   080242855X  9780802428554           eng          112              0   \n",
       "7800   1930692471  9781930692473           eng          830              0   \n",
       "8979   0851742718  9780851742717           eng           49              0   \n",
       "9335   081292763X  9780812927634           eng          336              0   \n",
       "9441   0805850848  9780805850840           eng          241              0   \n",
       "10142  0696018829  9780696018824           eng           32              0   \n",
       "10501  0313309337  9780313309335           eng          176              0   \n",
       "10921  088684049X  9780886840495           eng           60              0   \n",
       "11031  0953284123  9780953284122           eng           96              0   \n",
       "\n",
       "       text_reviews_count publication_date  \\\n",
       "265                     0         9/1/2001   \n",
       "375                     0         6/1/2005   \n",
       "987                     0       10/13/2000   \n",
       "2532                    0         1/1/2004   \n",
       "2533                    0         1/1/2003   \n",
       "2758                    0         1/1/1996   \n",
       "3493                    0        8/20/1992   \n",
       "4242                    0         1/1/1983   \n",
       "4678                    0        11/8/2002   \n",
       "5325                    0       12/31/1997   \n",
       "6383                    0         3/1/1996   \n",
       "6561                    0         5/1/2001   \n",
       "6862                    0         4/1/2000   \n",
       "6880                    0        5/12/1988   \n",
       "7147                    0        7/15/1998   \n",
       "7402                    0       12/30/2011   \n",
       "7576                    0        5/31/1981   \n",
       "7637                    0        9/13/1999   \n",
       "7800                    0         9/1/2006   \n",
       "8979                    0         5/1/1977   \n",
       "9335                    0        7/22/1997   \n",
       "9441                    0         8/5/2006   \n",
       "10142                   1         3/1/1989   \n",
       "10501                   0        3/30/2002   \n",
       "10921                   0        12/1/1985   \n",
       "11031                   0        12/9/1999   \n",
       "\n",
       "                                               publisher  \n",
       "265                                        Lonely Planet  \n",
       "375                                           BradyGames  \n",
       "987                         Grove Press  Open City Books  \n",
       "2532   Frederick P. Lenz Foundation for American Budd...  \n",
       "2533   Frederick P. Lenz Foundation for American Budd...  \n",
       "2758                      Izdavačka agencija \"Draganić\"  \n",
       "3493                                           Macmillan  \n",
       "4242                                     Salem Press Inc  \n",
       "4678                                           Routledge  \n",
       "5325                                   Arts Publications  \n",
       "6383                                       Fithian Press  \n",
       "6561                                        Gale Cengage  \n",
       "6862             Hodder & Stoughton Educational Division  \n",
       "6880                    Knopf Doubleday Publishing Group  \n",
       "7147                                    K.G. Saur Verlag  \n",
       "7402                 McGraw-Hill Professional Publishing  \n",
       "7576                                            Springer  \n",
       "7637                                    Moody Publishers  \n",
       "7800                                       Beckett Media  \n",
       "8979                           Brown Son & Ferguson Ltd.  \n",
       "9335                        Random House Puzzles & Games  \n",
       "9441                                           Routledge  \n",
       "10142                               Meredith Corporation  \n",
       "10501                                    Greenwood Press  \n",
       "10921                    AMR/Advanced Management Reports  \n",
       "11031                      Between the Lines Productions  "
      ]
     },
     "execution_count": 29,
     "metadata": {},
     "output_type": "execute_result"
    }
   ],
   "source": [
    "# let's look at their full rows\n",
    "books_df.loc[books_df[\"average_rating\"]==0]"
   ]
  },
  {
   "cell_type": "markdown",
   "id": "38c5a79c",
   "metadata": {},
   "source": [
    "- We can observe that for a rating of 0, the value of `ratings_count` is also equal to 0. This can confirm the hypothesis of a rating of 0 is a default value for non rated books.\n",
    "- The same is also observed in the column `text_reviews_count` where the values are all equal to 0 except for only one row which can be a typing error or a copying error..\n",
    "- As a conclusion of this, we say that we can drop those lines because they correspond to books not rated yet and cannot be  used to train a predicting model."
   ]
  },
  {
   "cell_type": "code",
   "execution_count": 30,
   "id": "32721678",
   "metadata": {},
   "outputs": [],
   "source": [
    "# drop rating 0 rows\n",
    "books_df = books_df[books_df[\"average_rating\"] > 0]"
   ]
  },
  {
   "cell_type": "markdown",
   "id": "0de7515c",
   "metadata": {},
   "source": [
    "- This leads us to another reflexion which is: can a book have an average_rating non null with 0 rating_counts ?\n",
    "- can we find rows with `ratings_count` equal to 0 and `average_rating` not 0 ?"
   ]
  },
  {
   "cell_type": "code",
   "execution_count": 31,
   "id": "4b5b51a1",
   "metadata": {},
   "outputs": [
    {
     "data": {
      "text/plain": [
       "55"
      ]
     },
     "execution_count": 31,
     "metadata": {},
     "output_type": "execute_result"
    }
   ],
   "source": [
    "len(books_df.loc[(books_df[\"ratings_count\"]==0) & (books_df[\"average_rating\"] > 0)])"
   ]
  },
  {
   "cell_type": "markdown",
   "id": "3656dfc3",
   "metadata": {},
   "source": [
    "there is 55 rows containing such erroneous values"
   ]
  },
  {
   "cell_type": "code",
   "execution_count": 32,
   "id": "efd1edd5",
   "metadata": {
    "scrolled": false
   },
   "outputs": [
    {
     "data": {
      "text/html": [
       "<div>\n",
       "<style scoped>\n",
       "    .dataframe tbody tr th:only-of-type {\n",
       "        vertical-align: middle;\n",
       "    }\n",
       "\n",
       "    .dataframe tbody tr th {\n",
       "        vertical-align: top;\n",
       "    }\n",
       "\n",
       "    .dataframe thead th {\n",
       "        text-align: right;\n",
       "    }\n",
       "</style>\n",
       "<table border=\"1\" class=\"dataframe\">\n",
       "  <thead>\n",
       "    <tr style=\"text-align: right;\">\n",
       "      <th></th>\n",
       "      <th>bookID</th>\n",
       "      <th>title</th>\n",
       "      <th>authors</th>\n",
       "      <th>average_rating</th>\n",
       "      <th>isbn</th>\n",
       "      <th>isbn13</th>\n",
       "      <th>language_code</th>\n",
       "      <th>num_pages</th>\n",
       "      <th>ratings_count</th>\n",
       "      <th>text_reviews_count</th>\n",
       "      <th>publication_date</th>\n",
       "      <th>publisher</th>\n",
       "    </tr>\n",
       "  </thead>\n",
       "  <tbody>\n",
       "    <tr>\n",
       "      <th>264</th>\n",
       "      <td>797</td>\n",
       "      <td>Lonely Planet Londres</td>\n",
       "      <td>Lonely Planet/Sarah Johnstone/Tom Masters</td>\n",
       "      <td>4.03</td>\n",
       "      <td>8408064762</td>\n",
       "      <td>9788408064763</td>\n",
       "      <td>spa</td>\n",
       "      <td>480</td>\n",
       "      <td>0</td>\n",
       "      <td>0</td>\n",
       "      <td>5/1/2006</td>\n",
       "      <td>Geoplaneta</td>\n",
       "    </tr>\n",
       "    <tr>\n",
       "      <th>525</th>\n",
       "      <td>1658</td>\n",
       "      <td>American Government: Continuity and Change  Al...</td>\n",
       "      <td>Karen  O'Connor/Larry J. Sabato</td>\n",
       "      <td>2.83</td>\n",
       "      <td>0321317106</td>\n",
       "      <td>9780321317100</td>\n",
       "      <td>eng</td>\n",
       "      <td>664</td>\n",
       "      <td>0</td>\n",
       "      <td>0</td>\n",
       "      <td>3/11/2005</td>\n",
       "      <td>Longman Publishing Group</td>\n",
       "    </tr>\n",
       "    <tr>\n",
       "      <th>526</th>\n",
       "      <td>1664</td>\n",
       "      <td>Essentials of American and Texas Government: C...</td>\n",
       "      <td>Karen  O'Connor/Larry J. Sabato</td>\n",
       "      <td>3.50</td>\n",
       "      <td>0321365208</td>\n",
       "      <td>9780321365200</td>\n",
       "      <td>eng</td>\n",
       "      <td>854</td>\n",
       "      <td>0</td>\n",
       "      <td>0</td>\n",
       "      <td>7/29/2005</td>\n",
       "      <td>Longman Publishing Group</td>\n",
       "    </tr>\n",
       "    <tr>\n",
       "      <th>624</th>\n",
       "      <td>2034</td>\n",
       "      <td>Comoediae 1: Acharenses/Equites/Nubes/Vespae/P...</td>\n",
       "      <td>Aristophanes/F.W. Hall/W.M. Geldart</td>\n",
       "      <td>5.00</td>\n",
       "      <td>0198145047</td>\n",
       "      <td>9780198145042</td>\n",
       "      <td>grc</td>\n",
       "      <td>364</td>\n",
       "      <td>0</td>\n",
       "      <td>0</td>\n",
       "      <td>2/22/1922</td>\n",
       "      <td>Oxford University Press  USA</td>\n",
       "    </tr>\n",
       "    <tr>\n",
       "      <th>747</th>\n",
       "      <td>2411</td>\n",
       "      <td>Melville and the politics of identity: From *K...</td>\n",
       "      <td>Julian Markels</td>\n",
       "      <td>3.33</td>\n",
       "      <td>0252063023</td>\n",
       "      <td>9780252063022</td>\n",
       "      <td>eng</td>\n",
       "      <td>164</td>\n",
       "      <td>0</td>\n",
       "      <td>0</td>\n",
       "      <td>7/1/1993</td>\n",
       "      <td>University of Illinois Press</td>\n",
       "    </tr>\n",
       "    <tr>\n",
       "      <th>935</th>\n",
       "      <td>3084</td>\n",
       "      <td>April  May und June</td>\n",
       "      <td>Elizabeth von Arnim</td>\n",
       "      <td>3.88</td>\n",
       "      <td>345833422X</td>\n",
       "      <td>9783458334224</td>\n",
       "      <td>ger</td>\n",
       "      <td>88</td>\n",
       "      <td>0</td>\n",
       "      <td>0</td>\n",
       "      <td>4/1/1995</td>\n",
       "      <td>Insel  Frankfurt</td>\n",
       "    </tr>\n",
       "    <tr>\n",
       "      <th>1110</th>\n",
       "      <td>3754</td>\n",
       "      <td>Dr No / Moonraker / Thunderball / From Russia ...</td>\n",
       "      <td>Ian Fleming</td>\n",
       "      <td>3.98</td>\n",
       "      <td>0862731585</td>\n",
       "      <td>9780862731588</td>\n",
       "      <td>eng</td>\n",
       "      <td>862</td>\n",
       "      <td>0</td>\n",
       "      <td>0</td>\n",
       "      <td>1/1/1984</td>\n",
       "      <td>Heinemann-Octopus</td>\n",
       "    </tr>\n",
       "    <tr>\n",
       "      <th>1681</th>\n",
       "      <td>5863</td>\n",
       "      <td>V.S. Naipaul</td>\n",
       "      <td>Bruce Alvin King</td>\n",
       "      <td>2.00</td>\n",
       "      <td>1403904561</td>\n",
       "      <td>9781403904560</td>\n",
       "      <td>eng</td>\n",
       "      <td>240</td>\n",
       "      <td>0</td>\n",
       "      <td>0</td>\n",
       "      <td>10/10/2003</td>\n",
       "      <td>Palgrave Macmillan</td>\n",
       "    </tr>\n",
       "    <tr>\n",
       "      <th>2051</th>\n",
       "      <td>7400</td>\n",
       "      <td>The Baby Emergency (Tennengarrah Clinic #1)</td>\n",
       "      <td>Carol Marinelli</td>\n",
       "      <td>3.60</td>\n",
       "      <td>0263181499</td>\n",
       "      <td>9780263181494</td>\n",
       "      <td>eng</td>\n",
       "      <td>285</td>\n",
       "      <td>0</td>\n",
       "      <td>0</td>\n",
       "      <td>6/1/2004</td>\n",
       "      <td>Mills &amp; Boon</td>\n",
       "    </tr>\n",
       "    <tr>\n",
       "      <th>2255</th>\n",
       "      <td>8077</td>\n",
       "      <td>Animales No Se Visten  Los (Animals Should Def...</td>\n",
       "      <td>Judi Barrett/Ron Barrett</td>\n",
       "      <td>4.11</td>\n",
       "      <td>1595191356</td>\n",
       "      <td>9781595191359</td>\n",
       "      <td>eng</td>\n",
       "      <td>32</td>\n",
       "      <td>0</td>\n",
       "      <td>0</td>\n",
       "      <td>10/30/1991</td>\n",
       "      <td>Live Oak Media</td>\n",
       "    </tr>\n",
       "    <tr>\n",
       "      <th>2956</th>\n",
       "      <td>10939</td>\n",
       "      <td>Ya Sé Que Te Quiero</td>\n",
       "      <td>Billy Crystal/Elizabeth Sayles</td>\n",
       "      <td>4.19</td>\n",
       "      <td>0060845988</td>\n",
       "      <td>9780060845988</td>\n",
       "      <td>spa</td>\n",
       "      <td>40</td>\n",
       "      <td>0</td>\n",
       "      <td>0</td>\n",
       "      <td>4/11/2006</td>\n",
       "      <td>Rayo</td>\n",
       "    </tr>\n",
       "    <tr>\n",
       "      <th>3006</th>\n",
       "      <td>11062</td>\n",
       "      <td>Roald Dahl: The Storyteller (Famous Lives)</td>\n",
       "      <td>Jason Hook</td>\n",
       "      <td>4.06</td>\n",
       "      <td>0750244917</td>\n",
       "      <td>9780750244916</td>\n",
       "      <td>eng</td>\n",
       "      <td>48</td>\n",
       "      <td>0</td>\n",
       "      <td>0</td>\n",
       "      <td>8/12/2004</td>\n",
       "      <td>Hodder Wayland</td>\n",
       "    </tr>\n",
       "    <tr>\n",
       "      <th>3007</th>\n",
       "      <td>11069</td>\n",
       "      <td>Les Nouvelles Recettes irrésistibles de Roald ...</td>\n",
       "      <td>Roald Dahl/Quentin Blake</td>\n",
       "      <td>4.14</td>\n",
       "      <td>2070536289</td>\n",
       "      <td>9782070536283</td>\n",
       "      <td>fre</td>\n",
       "      <td>64</td>\n",
       "      <td>0</td>\n",
       "      <td>0</td>\n",
       "      <td>9/18/2002</td>\n",
       "      <td>Gallimard Jeunesse</td>\n",
       "    </tr>\n",
       "    <tr>\n",
       "      <th>3133</th>\n",
       "      <td>11516</td>\n",
       "      <td>Les Larmes d'Icare</td>\n",
       "      <td>Dan Simmons/Jean-Daniel Brèque</td>\n",
       "      <td>3.81</td>\n",
       "      <td>220724038X</td>\n",
       "      <td>9782207240380</td>\n",
       "      <td>fre</td>\n",
       "      <td>357</td>\n",
       "      <td>0</td>\n",
       "      <td>0</td>\n",
       "      <td>3/15/1994</td>\n",
       "      <td>Denoël</td>\n",
       "    </tr>\n",
       "    <tr>\n",
       "      <th>3235</th>\n",
       "      <td>11861</td>\n",
       "      <td>City on the Seine: Paris in the Time of Richel...</td>\n",
       "      <td>Andrew P. Trout</td>\n",
       "      <td>4.17</td>\n",
       "      <td>0333666380</td>\n",
       "      <td>9780333666388</td>\n",
       "      <td>eng</td>\n",
       "      <td>288</td>\n",
       "      <td>0</td>\n",
       "      <td>0</td>\n",
       "      <td>6/5/1996</td>\n",
       "      <td>Palgrave Macmillan</td>\n",
       "    </tr>\n",
       "    <tr>\n",
       "      <th>3240</th>\n",
       "      <td>11880</td>\n",
       "      <td>A Book of Blue Flowers</td>\n",
       "      <td>Robert L. Geneve</td>\n",
       "      <td>3.83</td>\n",
       "      <td>0881927694</td>\n",
       "      <td>9780881927696</td>\n",
       "      <td>eng</td>\n",
       "      <td>327</td>\n",
       "      <td>0</td>\n",
       "      <td>0</td>\n",
       "      <td>2/1/2006</td>\n",
       "      <td>Timber Press (OR)</td>\n",
       "    </tr>\n",
       "    <tr>\n",
       "      <th>3349</th>\n",
       "      <td>12225</td>\n",
       "      <td>A Streetcar Named Desire (SparkNotes Literatur...</td>\n",
       "      <td>SparkNotes</td>\n",
       "      <td>3.29</td>\n",
       "      <td>1586634496</td>\n",
       "      <td>9781586634490</td>\n",
       "      <td>eng</td>\n",
       "      <td>96</td>\n",
       "      <td>0</td>\n",
       "      <td>0</td>\n",
       "      <td>7/15/2002</td>\n",
       "      <td>SparkNotes</td>\n",
       "    </tr>\n",
       "    <tr>\n",
       "      <th>3380</th>\n",
       "      <td>12346</td>\n",
       "      <td>Premières Histoires</td>\n",
       "      <td>João Guimarães Rosa</td>\n",
       "      <td>4.33</td>\n",
       "      <td>2864240157</td>\n",
       "      <td>9782864240150</td>\n",
       "      <td>fre</td>\n",
       "      <td>205</td>\n",
       "      <td>0</td>\n",
       "      <td>0</td>\n",
       "      <td>3/31/1995</td>\n",
       "      <td>Métailié</td>\n",
       "    </tr>\n",
       "    <tr>\n",
       "      <th>4214</th>\n",
       "      <td>15066</td>\n",
       "      <td>It's Only a Movie  Ingrid: Encounters on and O...</td>\n",
       "      <td>Alexander  Walker</td>\n",
       "      <td>3.80</td>\n",
       "      <td>0747230218</td>\n",
       "      <td>9780747230212</td>\n",
       "      <td>eng</td>\n",
       "      <td>320</td>\n",
       "      <td>0</td>\n",
       "      <td>0</td>\n",
       "      <td>8/17/1989</td>\n",
       "      <td>Headline Book Publishing</td>\n",
       "    </tr>\n",
       "    <tr>\n",
       "      <th>4748</th>\n",
       "      <td>17045</td>\n",
       "      <td>American Government: Continuity and Change  Te...</td>\n",
       "      <td>Karen  O'Connor/Larry J. Sabato</td>\n",
       "      <td>2.83</td>\n",
       "      <td>0321365607</td>\n",
       "      <td>9780321365606</td>\n",
       "      <td>eng</td>\n",
       "      <td>1088</td>\n",
       "      <td>0</td>\n",
       "      <td>0</td>\n",
       "      <td>5/26/2005</td>\n",
       "      <td>Longman Publishing Group</td>\n",
       "    </tr>\n",
       "    <tr>\n",
       "      <th>4856</th>\n",
       "      <td>17506</td>\n",
       "      <td>La gata perdida = The Missing Cat (Las Aventur...</td>\n",
       "      <td>Chris L. Demarest/Berlitz Publishing Company</td>\n",
       "      <td>4.14</td>\n",
       "      <td>9812468234</td>\n",
       "      <td>9789812468239</td>\n",
       "      <td>spa</td>\n",
       "      <td>64</td>\n",
       "      <td>0</td>\n",
       "      <td>0</td>\n",
       "      <td>8/15/2006</td>\n",
       "      <td>Berlitz Kids</td>\n",
       "    </tr>\n",
       "    <tr>\n",
       "      <th>5477</th>\n",
       "      <td>19787</td>\n",
       "      <td>The Goon Show: Moriarty Where Are You?</td>\n",
       "      <td>NOT A BOOK</td>\n",
       "      <td>4.43</td>\n",
       "      <td>0563388544</td>\n",
       "      <td>9780563388548</td>\n",
       "      <td>eng</td>\n",
       "      <td>2</td>\n",
       "      <td>0</td>\n",
       "      <td>0</td>\n",
       "      <td>3/30/2005</td>\n",
       "      <td>BBC Physical Audio</td>\n",
       "    </tr>\n",
       "    <tr>\n",
       "      <th>5726</th>\n",
       "      <td>21342</td>\n",
       "      <td>Math Fables</td>\n",
       "      <td>Greg Tang/Heather Cahoon</td>\n",
       "      <td>4.03</td>\n",
       "      <td>043945400X</td>\n",
       "      <td>9780439454001</td>\n",
       "      <td>eng</td>\n",
       "      <td>40</td>\n",
       "      <td>0</td>\n",
       "      <td>0</td>\n",
       "      <td>1/1/1949</td>\n",
       "      <td>Scholastic Inc.</td>\n",
       "    </tr>\n",
       "    <tr>\n",
       "      <th>5781</th>\n",
       "      <td>21703</td>\n",
       "      <td>The Best American Mystery Stories 2002</td>\n",
       "      <td>James Ellroy/Otto Penzler/John Biguenet/Michae...</td>\n",
       "      <td>3.58</td>\n",
       "      <td>0618258078</td>\n",
       "      <td>9780618258079</td>\n",
       "      <td>eng</td>\n",
       "      <td>1</td>\n",
       "      <td>0</td>\n",
       "      <td>0</td>\n",
       "      <td>10/15/2002</td>\n",
       "      <td>Mariner Books</td>\n",
       "    </tr>\n",
       "    <tr>\n",
       "      <th>6046</th>\n",
       "      <td>22669</td>\n",
       "      <td>Open House</td>\n",
       "      <td>Elizabeth Berg</td>\n",
       "      <td>3.70</td>\n",
       "      <td>0613997638</td>\n",
       "      <td>9780613997638</td>\n",
       "      <td>eng</td>\n",
       "      <td>0</td>\n",
       "      <td>0</td>\n",
       "      <td>0</td>\n",
       "      <td>5/1/2001</td>\n",
       "      <td>Turtleback Books</td>\n",
       "    </tr>\n",
       "    <tr>\n",
       "      <th>6087</th>\n",
       "      <td>22834</td>\n",
       "      <td>らんま½ 12</td>\n",
       "      <td>Rumiko Takahashi</td>\n",
       "      <td>4.06</td>\n",
       "      <td>409126512X</td>\n",
       "      <td>9784091265128</td>\n",
       "      <td>jpn</td>\n",
       "      <td>176</td>\n",
       "      <td>0</td>\n",
       "      <td>0</td>\n",
       "      <td>9/18/2002</td>\n",
       "      <td>小学館 [Shōgakukan]</td>\n",
       "    </tr>\n",
       "    <tr>\n",
       "      <th>6396</th>\n",
       "      <td>24062</td>\n",
       "      <td>The Deep (Dive Trilogy)</td>\n",
       "      <td>Gordon Korman</td>\n",
       "      <td>3.78</td>\n",
       "      <td>0613674839</td>\n",
       "      <td>9780613674836</td>\n",
       "      <td>eng</td>\n",
       "      <td>148</td>\n",
       "      <td>0</td>\n",
       "      <td>0</td>\n",
       "      <td>7/1/2003</td>\n",
       "      <td>Turtleback Books</td>\n",
       "    </tr>\n",
       "    <tr>\n",
       "      <th>6563</th>\n",
       "      <td>24753</td>\n",
       "      <td>L'Orient  c'est l'Orient</td>\n",
       "      <td>T. Coraghessan Boyle</td>\n",
       "      <td>3.64</td>\n",
       "      <td>2246442613</td>\n",
       "      <td>9782246442615</td>\n",
       "      <td>fre</td>\n",
       "      <td>370</td>\n",
       "      <td>0</td>\n",
       "      <td>0</td>\n",
       "      <td>9/1/1993</td>\n",
       "      <td>Grasset</td>\n",
       "    </tr>\n",
       "    <tr>\n",
       "      <th>6809</th>\n",
       "      <td>25639</td>\n",
       "      <td>McGraw-Hill's SAT I (McGraw-Hill's SAT I)</td>\n",
       "      <td>Christopher   Black/Mark Anestis</td>\n",
       "      <td>3.67</td>\n",
       "      <td>007146235X</td>\n",
       "      <td>9780071462358</td>\n",
       "      <td>eng</td>\n",
       "      <td>890</td>\n",
       "      <td>0</td>\n",
       "      <td>0</td>\n",
       "      <td>10/1/2005</td>\n",
       "      <td>McGraw-Hill Companies</td>\n",
       "    </tr>\n",
       "    <tr>\n",
       "      <th>6816</th>\n",
       "      <td>25685</td>\n",
       "      <td>An Odyssey in Learning and Perception</td>\n",
       "      <td>Eleanor J. Gibson</td>\n",
       "      <td>4.50</td>\n",
       "      <td>026257103X</td>\n",
       "      <td>9780262571036</td>\n",
       "      <td>eng</td>\n",
       "      <td>654</td>\n",
       "      <td>0</td>\n",
       "      <td>0</td>\n",
       "      <td>2/3/1994</td>\n",
       "      <td>Bradford Book</td>\n",
       "    </tr>\n",
       "    <tr>\n",
       "      <th>6976</th>\n",
       "      <td>26410</td>\n",
       "      <td>Wissenschaft der Logik: Die Lehre Vom Begriff ...</td>\n",
       "      <td>Georg Wilhelm Friedrich Hegel</td>\n",
       "      <td>4.78</td>\n",
       "      <td>3787307672</td>\n",
       "      <td>9783787307678</td>\n",
       "      <td>ger</td>\n",
       "      <td>337</td>\n",
       "      <td>0</td>\n",
       "      <td>0</td>\n",
       "      <td>1/1/1994</td>\n",
       "      <td>F. Meiner</td>\n",
       "    </tr>\n",
       "    <tr>\n",
       "      <th>7002</th>\n",
       "      <td>26525</td>\n",
       "      <td>Leadership Challenge</td>\n",
       "      <td>James M. Kouzes</td>\n",
       "      <td>4.05</td>\n",
       "      <td>0787983500</td>\n",
       "      <td>9780787983505</td>\n",
       "      <td>eng</td>\n",
       "      <td>50</td>\n",
       "      <td>0</td>\n",
       "      <td>0</td>\n",
       "      <td>12/1/2004</td>\n",
       "      <td>Pfeiffer &amp; Company</td>\n",
       "    </tr>\n",
       "    <tr>\n",
       "      <th>7178</th>\n",
       "      <td>27520</td>\n",
       "      <td>Katy and the Big Snow (Book &amp; Cassette)</td>\n",
       "      <td>Virginia Lee Burton</td>\n",
       "      <td>4.24</td>\n",
       "      <td>0395959918</td>\n",
       "      <td>9780395959916</td>\n",
       "      <td>eng</td>\n",
       "      <td>40</td>\n",
       "      <td>0</td>\n",
       "      <td>0</td>\n",
       "      <td>8/30/1999</td>\n",
       "      <td>Houghton Mifflin Harcourt</td>\n",
       "    </tr>\n",
       "    <tr>\n",
       "      <th>7212</th>\n",
       "      <td>27647</td>\n",
       "      <td>Secretos De Familia</td>\n",
       "      <td>Julia Glass</td>\n",
       "      <td>3.57</td>\n",
       "      <td>8496525031</td>\n",
       "      <td>9788496525030</td>\n",
       "      <td>spa</td>\n",
       "      <td>528</td>\n",
       "      <td>0</td>\n",
       "      <td>1</td>\n",
       "      <td>11/1/2006</td>\n",
       "      <td>Puzzle-Roca</td>\n",
       "    </tr>\n",
       "    <tr>\n",
       "      <th>7754</th>\n",
       "      <td>29927</td>\n",
       "      <td>A Farewell to Arms?: Beyond the Good Friday Ag...</td>\n",
       "      <td>Adrian Guelke/Michael Cox/Fiona Stephen</td>\n",
       "      <td>4.33</td>\n",
       "      <td>0719071151</td>\n",
       "      <td>9780719071157</td>\n",
       "      <td>eng</td>\n",
       "      <td>624</td>\n",
       "      <td>0</td>\n",
       "      <td>0</td>\n",
       "      <td>4/18/2006</td>\n",
       "      <td>Manchester University Press</td>\n",
       "    </tr>\n",
       "    <tr>\n",
       "      <th>7872</th>\n",
       "      <td>30270</td>\n",
       "      <td>Pacto Con un Demonio</td>\n",
       "      <td>Kim Harrison</td>\n",
       "      <td>4.39</td>\n",
       "      <td>0060898720</td>\n",
       "      <td>9780060898724</td>\n",
       "      <td>spa</td>\n",
       "      <td>512</td>\n",
       "      <td>0</td>\n",
       "      <td>0</td>\n",
       "      <td>7/1/2008</td>\n",
       "      <td>HarperTorch</td>\n",
       "    </tr>\n",
       "    <tr>\n",
       "      <th>8055</th>\n",
       "      <td>30941</td>\n",
       "      <td>Choo Choo (Carry Along Book &amp; Cassette Favorites)</td>\n",
       "      <td>Virginia Lee Burton</td>\n",
       "      <td>3.91</td>\n",
       "      <td>0395511682</td>\n",
       "      <td>9780395511688</td>\n",
       "      <td>eng</td>\n",
       "      <td>48</td>\n",
       "      <td>0</td>\n",
       "      <td>0</td>\n",
       "      <td>4/24/1989</td>\n",
       "      <td>Houghton Mifflin</td>\n",
       "    </tr>\n",
       "    <tr>\n",
       "      <th>8475</th>\n",
       "      <td>32540</td>\n",
       "      <td>Conversations with Bernard Malamud (Literary C...</td>\n",
       "      <td>J. Michael Lennon/Lawrence M. Lasher</td>\n",
       "      <td>4.00</td>\n",
       "      <td>0878054898</td>\n",
       "      <td>9780878054893</td>\n",
       "      <td>eng</td>\n",
       "      <td>156</td>\n",
       "      <td>0</td>\n",
       "      <td>0</td>\n",
       "      <td>4/28/1991</td>\n",
       "      <td>University Press of Mississippi</td>\n",
       "    </tr>\n",
       "    <tr>\n",
       "      <th>8745</th>\n",
       "      <td>33705</td>\n",
       "      <td>Does God Know How to Tie Shoes?</td>\n",
       "      <td>Nancy White Carlstrom/Lori McElrath-Eslick</td>\n",
       "      <td>4.20</td>\n",
       "      <td>0802850898</td>\n",
       "      <td>9780802850898</td>\n",
       "      <td>eng</td>\n",
       "      <td>32</td>\n",
       "      <td>0</td>\n",
       "      <td>0</td>\n",
       "      <td>1/31/1997</td>\n",
       "      <td>William B. Eerdmans Publishing Company</td>\n",
       "    </tr>\n",
       "    <tr>\n",
       "      <th>8766</th>\n",
       "      <td>33775</td>\n",
       "      <td>Kopfüber ins Glück</td>\n",
       "      <td>Anna Maxted</td>\n",
       "      <td>3.54</td>\n",
       "      <td>3442454085</td>\n",
       "      <td>9783442454082</td>\n",
       "      <td>ger</td>\n",
       "      <td>512</td>\n",
       "      <td>0</td>\n",
       "      <td>0</td>\n",
       "      <td>2/1/2003</td>\n",
       "      <td>Goldmann</td>\n",
       "    </tr>\n",
       "    <tr>\n",
       "      <th>8841</th>\n",
       "      <td>34177</td>\n",
       "      <td>The Visual Arts: A History</td>\n",
       "      <td>Hugh Honour/John Fleming</td>\n",
       "      <td>3.85</td>\n",
       "      <td>0810935937</td>\n",
       "      <td>9780810935938</td>\n",
       "      <td>eng</td>\n",
       "      <td>960</td>\n",
       "      <td>0</td>\n",
       "      <td>0</td>\n",
       "      <td>12/1/2002</td>\n",
       "      <td>Harry N. Abrams</td>\n",
       "    </tr>\n",
       "    <tr>\n",
       "      <th>8878</th>\n",
       "      <td>34320</td>\n",
       "      <td>Operation Spy School (Adam Sharp  #4)</td>\n",
       "      <td>George E. Stanley/Guy Francis</td>\n",
       "      <td>3.80</td>\n",
       "      <td>0375824049</td>\n",
       "      <td>9780375824043</td>\n",
       "      <td>eng</td>\n",
       "      <td>44</td>\n",
       "      <td>0</td>\n",
       "      <td>0</td>\n",
       "      <td>9/23/2003</td>\n",
       "      <td>Random House Books for Young Readers</td>\n",
       "    </tr>\n",
       "    <tr>\n",
       "      <th>8942</th>\n",
       "      <td>34607</td>\n",
       "      <td>The Damnation Game</td>\n",
       "      <td>Clive Barker</td>\n",
       "      <td>3.82</td>\n",
       "      <td>0517681137</td>\n",
       "      <td>9780517681138</td>\n",
       "      <td>eng</td>\n",
       "      <td>374</td>\n",
       "      <td>0</td>\n",
       "      <td>0</td>\n",
       "      <td>1/13/1989</td>\n",
       "      <td>Random House</td>\n",
       "    </tr>\n",
       "    <tr>\n",
       "      <th>9067</th>\n",
       "      <td>35313</td>\n",
       "      <td>La Ley del Exito</td>\n",
       "      <td>Paramahansa Yogananda</td>\n",
       "      <td>4.44</td>\n",
       "      <td>0876121512</td>\n",
       "      <td>9780876121511</td>\n",
       "      <td>spa</td>\n",
       "      <td>32</td>\n",
       "      <td>0</td>\n",
       "      <td>0</td>\n",
       "      <td>6/1/1998</td>\n",
       "      <td>Self-Realization Fellowship Publishers</td>\n",
       "    </tr>\n",
       "    <tr>\n",
       "      <th>9159</th>\n",
       "      <td>35760</td>\n",
       "      <td>Mistaken Identity</td>\n",
       "      <td>Nayantara Sahgal</td>\n",
       "      <td>2.98</td>\n",
       "      <td>8172235224</td>\n",
       "      <td>9788172235222</td>\n",
       "      <td>eng</td>\n",
       "      <td>324</td>\n",
       "      <td>0</td>\n",
       "      <td>0</td>\n",
       "      <td>12/30/2016</td>\n",
       "      <td>Harper Collins</td>\n",
       "    </tr>\n",
       "    <tr>\n",
       "      <th>9202</th>\n",
       "      <td>35986</td>\n",
       "      <td>Horizontal Gene Transfer</td>\n",
       "      <td>Michael Syvanen/Clarence I. Kado</td>\n",
       "      <td>4.00</td>\n",
       "      <td>0126801266</td>\n",
       "      <td>9780126801262</td>\n",
       "      <td>eng</td>\n",
       "      <td>445</td>\n",
       "      <td>0</td>\n",
       "      <td>0</td>\n",
       "      <td>1/16/2002</td>\n",
       "      <td>Academic Press</td>\n",
       "    </tr>\n",
       "    <tr>\n",
       "      <th>9702</th>\n",
       "      <td>38710</td>\n",
       "      <td>Super Fast Out of Control</td>\n",
       "      <td>Louis Sachar</td>\n",
       "      <td>3.75</td>\n",
       "      <td>0747566828</td>\n",
       "      <td>9780747566823</td>\n",
       "      <td>eng</td>\n",
       "      <td>128</td>\n",
       "      <td>0</td>\n",
       "      <td>0</td>\n",
       "      <td>5/2/2005</td>\n",
       "      <td>Bloomsbury Publishing PLC</td>\n",
       "    </tr>\n",
       "    <tr>\n",
       "      <th>9851</th>\n",
       "      <td>39580</td>\n",
       "      <td>The American Campaign: U.S. Presidential Campa...</td>\n",
       "      <td>James E. Campbell</td>\n",
       "      <td>5.00</td>\n",
       "      <td>089096940X</td>\n",
       "      <td>9780890969403</td>\n",
       "      <td>eng</td>\n",
       "      <td>314</td>\n",
       "      <td>0</td>\n",
       "      <td>0</td>\n",
       "      <td>5/1/2000</td>\n",
       "      <td>Texas A&amp;M University Press</td>\n",
       "    </tr>\n",
       "    <tr>\n",
       "      <th>10168</th>\n",
       "      <td>41117</td>\n",
       "      <td>Worlds of Wonder</td>\n",
       "      <td>Terry Pastor/Damon Knight/Philip K. Dick/C.M. ...</td>\n",
       "      <td>4.13</td>\n",
       "      <td>0575043555</td>\n",
       "      <td>9780575043558</td>\n",
       "      <td>eng</td>\n",
       "      <td>368</td>\n",
       "      <td>0</td>\n",
       "      <td>0</td>\n",
       "      <td>11/10/1988</td>\n",
       "      <td>Orion Publishing Co</td>\n",
       "    </tr>\n",
       "    <tr>\n",
       "      <th>10266</th>\n",
       "      <td>41639</td>\n",
       "      <td>Bill Gates: Computer Legend (Famous Lives)</td>\n",
       "      <td>Sara Barton-Wood</td>\n",
       "      <td>5.00</td>\n",
       "      <td>0739844326</td>\n",
       "      <td>9780739844328</td>\n",
       "      <td>eng</td>\n",
       "      <td>48</td>\n",
       "      <td>0</td>\n",
       "      <td>0</td>\n",
       "      <td>11/1/2001</td>\n",
       "      <td>Raintree</td>\n",
       "    </tr>\n",
       "    <tr>\n",
       "      <th>10313</th>\n",
       "      <td>41760</td>\n",
       "      <td>Billy Budd  Sailor and Other Uncompleted Writi...</td>\n",
       "      <td>Herman Melville/Hershel Parker/G. Thomas Tanse...</td>\n",
       "      <td>3.11</td>\n",
       "      <td>0810111144</td>\n",
       "      <td>9780810111141</td>\n",
       "      <td>eng</td>\n",
       "      <td>1016</td>\n",
       "      <td>0</td>\n",
       "      <td>0</td>\n",
       "      <td>9/15/2017</td>\n",
       "      <td>Northwestern Univ Press</td>\n",
       "    </tr>\n",
       "    <tr>\n",
       "      <th>10446</th>\n",
       "      <td>42489</td>\n",
       "      <td>After Collapse: The Regeneration of Complex So...</td>\n",
       "      <td>Glenn M. Schwartz</td>\n",
       "      <td>4.00</td>\n",
       "      <td>0816525099</td>\n",
       "      <td>9780816525096</td>\n",
       "      <td>eng</td>\n",
       "      <td>336</td>\n",
       "      <td>0</td>\n",
       "      <td>0</td>\n",
       "      <td>5/25/2006</td>\n",
       "      <td>University of Arizona Press</td>\n",
       "    </tr>\n",
       "    <tr>\n",
       "      <th>10517</th>\n",
       "      <td>42863</td>\n",
       "      <td>Mission Possible</td>\n",
       "      <td>Kenneth H. Blanchard</td>\n",
       "      <td>3.44</td>\n",
       "      <td>0071348271</td>\n",
       "      <td>9780071348270</td>\n",
       "      <td>eng</td>\n",
       "      <td>242</td>\n",
       "      <td>0</td>\n",
       "      <td>0</td>\n",
       "      <td>4/30/1999</td>\n",
       "      <td>McGraw-Hill Companies</td>\n",
       "    </tr>\n",
       "    <tr>\n",
       "      <th>10853</th>\n",
       "      <td>44321</td>\n",
       "      <td>A Cargo of Women: Susannah Watson and the Conv...</td>\n",
       "      <td>Babette Smith</td>\n",
       "      <td>3.58</td>\n",
       "      <td>1877058335</td>\n",
       "      <td>9781877058332</td>\n",
       "      <td>eng</td>\n",
       "      <td>264</td>\n",
       "      <td>0</td>\n",
       "      <td>0</td>\n",
       "      <td>6/1/2005</td>\n",
       "      <td>Rosenberg Publishing</td>\n",
       "    </tr>\n",
       "    <tr>\n",
       "      <th>10866</th>\n",
       "      <td>44433</td>\n",
       "      <td>Courageous Faith Through the Year</td>\n",
       "      <td>Bill Hybels/Keri Wyatt Kent</td>\n",
       "      <td>3.50</td>\n",
       "      <td>0830832947</td>\n",
       "      <td>9780830832941</td>\n",
       "      <td>eng</td>\n",
       "      <td>327</td>\n",
       "      <td>0</td>\n",
       "      <td>0</td>\n",
       "      <td>7/1/2004</td>\n",
       "      <td>IVP Books</td>\n",
       "    </tr>\n",
       "  </tbody>\n",
       "</table>\n",
       "</div>"
      ],
      "text/plain": [
       "       bookID                                              title  \\\n",
       "264       797                              Lonely Planet Londres   \n",
       "525      1658  American Government: Continuity and Change  Al...   \n",
       "526      1664  Essentials of American and Texas Government: C...   \n",
       "624      2034  Comoediae 1: Acharenses/Equites/Nubes/Vespae/P...   \n",
       "747      2411  Melville and the politics of identity: From *K...   \n",
       "935      3084                                April  May und June   \n",
       "1110     3754  Dr No / Moonraker / Thunderball / From Russia ...   \n",
       "1681     5863                                       V.S. Naipaul   \n",
       "2051     7400        The Baby Emergency (Tennengarrah Clinic #1)   \n",
       "2255     8077  Animales No Se Visten  Los (Animals Should Def...   \n",
       "2956    10939                                Ya Sé Que Te Quiero   \n",
       "3006    11062         Roald Dahl: The Storyteller (Famous Lives)   \n",
       "3007    11069  Les Nouvelles Recettes irrésistibles de Roald ...   \n",
       "3133    11516                                 Les Larmes d'Icare   \n",
       "3235    11861  City on the Seine: Paris in the Time of Richel...   \n",
       "3240    11880                             A Book of Blue Flowers   \n",
       "3349    12225  A Streetcar Named Desire (SparkNotes Literatur...   \n",
       "3380    12346                                Premières Histoires   \n",
       "4214    15066  It's Only a Movie  Ingrid: Encounters on and O...   \n",
       "4748    17045  American Government: Continuity and Change  Te...   \n",
       "4856    17506  La gata perdida = The Missing Cat (Las Aventur...   \n",
       "5477    19787             The Goon Show: Moriarty Where Are You?   \n",
       "5726    21342                                        Math Fables   \n",
       "5781    21703             The Best American Mystery Stories 2002   \n",
       "6046    22669                                         Open House   \n",
       "6087    22834                                            らんま½ 12   \n",
       "6396    24062                            The Deep (Dive Trilogy)   \n",
       "6563    24753                           L'Orient  c'est l'Orient   \n",
       "6809    25639          McGraw-Hill's SAT I (McGraw-Hill's SAT I)   \n",
       "6816    25685              An Odyssey in Learning and Perception   \n",
       "6976    26410  Wissenschaft der Logik: Die Lehre Vom Begriff ...   \n",
       "7002    26525                               Leadership Challenge   \n",
       "7178    27520            Katy and the Big Snow (Book & Cassette)   \n",
       "7212    27647                                Secretos De Familia   \n",
       "7754    29927  A Farewell to Arms?: Beyond the Good Friday Ag...   \n",
       "7872    30270                               Pacto Con un Demonio   \n",
       "8055    30941  Choo Choo (Carry Along Book & Cassette Favorites)   \n",
       "8475    32540  Conversations with Bernard Malamud (Literary C...   \n",
       "8745    33705                    Does God Know How to Tie Shoes?   \n",
       "8766    33775                                 Kopfüber ins Glück   \n",
       "8841    34177                         The Visual Arts: A History   \n",
       "8878    34320              Operation Spy School (Adam Sharp  #4)   \n",
       "8942    34607                                 The Damnation Game   \n",
       "9067    35313                                   La Ley del Exito   \n",
       "9159    35760                                  Mistaken Identity   \n",
       "9202    35986                           Horizontal Gene Transfer   \n",
       "9702    38710                          Super Fast Out of Control   \n",
       "9851    39580  The American Campaign: U.S. Presidential Campa...   \n",
       "10168   41117                                   Worlds of Wonder   \n",
       "10266   41639         Bill Gates: Computer Legend (Famous Lives)   \n",
       "10313   41760  Billy Budd  Sailor and Other Uncompleted Writi...   \n",
       "10446   42489  After Collapse: The Regeneration of Complex So...   \n",
       "10517   42863                                   Mission Possible   \n",
       "10853   44321  A Cargo of Women: Susannah Watson and the Conv...   \n",
       "10866   44433                  Courageous Faith Through the Year   \n",
       "\n",
       "                                                 authors  average_rating  \\\n",
       "264            Lonely Planet/Sarah Johnstone/Tom Masters            4.03   \n",
       "525                      Karen  O'Connor/Larry J. Sabato            2.83   \n",
       "526                      Karen  O'Connor/Larry J. Sabato            3.50   \n",
       "624                  Aristophanes/F.W. Hall/W.M. Geldart            5.00   \n",
       "747                                       Julian Markels            3.33   \n",
       "935                                  Elizabeth von Arnim            3.88   \n",
       "1110                                         Ian Fleming            3.98   \n",
       "1681                                    Bruce Alvin King            2.00   \n",
       "2051                                     Carol Marinelli            3.60   \n",
       "2255                            Judi Barrett/Ron Barrett            4.11   \n",
       "2956                      Billy Crystal/Elizabeth Sayles            4.19   \n",
       "3006                                          Jason Hook            4.06   \n",
       "3007                            Roald Dahl/Quentin Blake            4.14   \n",
       "3133                      Dan Simmons/Jean-Daniel Brèque            3.81   \n",
       "3235                                     Andrew P. Trout            4.17   \n",
       "3240                                    Robert L. Geneve            3.83   \n",
       "3349                                          SparkNotes            3.29   \n",
       "3380                                 João Guimarães Rosa            4.33   \n",
       "4214                                   Alexander  Walker            3.80   \n",
       "4748                     Karen  O'Connor/Larry J. Sabato            2.83   \n",
       "4856        Chris L. Demarest/Berlitz Publishing Company            4.14   \n",
       "5477                                          NOT A BOOK            4.43   \n",
       "5726                            Greg Tang/Heather Cahoon            4.03   \n",
       "5781   James Ellroy/Otto Penzler/John Biguenet/Michae...            3.58   \n",
       "6046                                      Elizabeth Berg            3.70   \n",
       "6087                                    Rumiko Takahashi            4.06   \n",
       "6396                                       Gordon Korman            3.78   \n",
       "6563                                T. Coraghessan Boyle            3.64   \n",
       "6809                    Christopher   Black/Mark Anestis            3.67   \n",
       "6816                                   Eleanor J. Gibson            4.50   \n",
       "6976                       Georg Wilhelm Friedrich Hegel            4.78   \n",
       "7002                                     James M. Kouzes            4.05   \n",
       "7178                                 Virginia Lee Burton            4.24   \n",
       "7212                                         Julia Glass            3.57   \n",
       "7754             Adrian Guelke/Michael Cox/Fiona Stephen            4.33   \n",
       "7872                                        Kim Harrison            4.39   \n",
       "8055                                 Virginia Lee Burton            3.91   \n",
       "8475                J. Michael Lennon/Lawrence M. Lasher            4.00   \n",
       "8745          Nancy White Carlstrom/Lori McElrath-Eslick            4.20   \n",
       "8766                                         Anna Maxted            3.54   \n",
       "8841                            Hugh Honour/John Fleming            3.85   \n",
       "8878                       George E. Stanley/Guy Francis            3.80   \n",
       "8942                                        Clive Barker            3.82   \n",
       "9067                               Paramahansa Yogananda            4.44   \n",
       "9159                                    Nayantara Sahgal            2.98   \n",
       "9202                    Michael Syvanen/Clarence I. Kado            4.00   \n",
       "9702                                        Louis Sachar            3.75   \n",
       "9851                                   James E. Campbell            5.00   \n",
       "10168  Terry Pastor/Damon Knight/Philip K. Dick/C.M. ...            4.13   \n",
       "10266                                   Sara Barton-Wood            5.00   \n",
       "10313  Herman Melville/Hershel Parker/G. Thomas Tanse...            3.11   \n",
       "10446                                  Glenn M. Schwartz            4.00   \n",
       "10517                               Kenneth H. Blanchard            3.44   \n",
       "10853                                      Babette Smith            3.58   \n",
       "10866                        Bill Hybels/Keri Wyatt Kent            3.50   \n",
       "\n",
       "             isbn         isbn13 language_code    num_pages  ratings_count  \\\n",
       "264    8408064762  9788408064763           spa          480              0   \n",
       "525    0321317106  9780321317100           eng          664              0   \n",
       "526    0321365208  9780321365200           eng          854              0   \n",
       "624    0198145047  9780198145042           grc          364              0   \n",
       "747    0252063023  9780252063022           eng          164              0   \n",
       "935    345833422X  9783458334224           ger           88              0   \n",
       "1110   0862731585  9780862731588           eng          862              0   \n",
       "1681   1403904561  9781403904560           eng          240              0   \n",
       "2051   0263181499  9780263181494           eng          285              0   \n",
       "2255   1595191356  9781595191359           eng           32              0   \n",
       "2956   0060845988  9780060845988           spa           40              0   \n",
       "3006   0750244917  9780750244916           eng           48              0   \n",
       "3007   2070536289  9782070536283           fre           64              0   \n",
       "3133   220724038X  9782207240380           fre          357              0   \n",
       "3235   0333666380  9780333666388           eng          288              0   \n",
       "3240   0881927694  9780881927696           eng          327              0   \n",
       "3349   1586634496  9781586634490           eng           96              0   \n",
       "3380   2864240157  9782864240150           fre          205              0   \n",
       "4214   0747230218  9780747230212           eng          320              0   \n",
       "4748   0321365607  9780321365606           eng         1088              0   \n",
       "4856   9812468234  9789812468239           spa           64              0   \n",
       "5477   0563388544  9780563388548           eng            2              0   \n",
       "5726   043945400X  9780439454001           eng           40              0   \n",
       "5781   0618258078  9780618258079           eng            1              0   \n",
       "6046   0613997638  9780613997638           eng            0              0   \n",
       "6087   409126512X  9784091265128           jpn          176              0   \n",
       "6396   0613674839  9780613674836           eng          148              0   \n",
       "6563   2246442613  9782246442615           fre          370              0   \n",
       "6809   007146235X  9780071462358           eng          890              0   \n",
       "6816   026257103X  9780262571036           eng          654              0   \n",
       "6976   3787307672  9783787307678           ger          337              0   \n",
       "7002   0787983500  9780787983505           eng           50              0   \n",
       "7178   0395959918  9780395959916           eng           40              0   \n",
       "7212   8496525031  9788496525030           spa          528              0   \n",
       "7754   0719071151  9780719071157           eng          624              0   \n",
       "7872   0060898720  9780060898724           spa          512              0   \n",
       "8055   0395511682  9780395511688           eng           48              0   \n",
       "8475   0878054898  9780878054893           eng          156              0   \n",
       "8745   0802850898  9780802850898           eng           32              0   \n",
       "8766   3442454085  9783442454082           ger          512              0   \n",
       "8841   0810935937  9780810935938           eng          960              0   \n",
       "8878   0375824049  9780375824043           eng           44              0   \n",
       "8942   0517681137  9780517681138           eng          374              0   \n",
       "9067   0876121512  9780876121511           spa           32              0   \n",
       "9159   8172235224  9788172235222           eng          324              0   \n",
       "9202   0126801266  9780126801262           eng          445              0   \n",
       "9702   0747566828  9780747566823           eng          128              0   \n",
       "9851   089096940X  9780890969403           eng          314              0   \n",
       "10168  0575043555  9780575043558           eng          368              0   \n",
       "10266  0739844326  9780739844328           eng           48              0   \n",
       "10313  0810111144  9780810111141           eng         1016              0   \n",
       "10446  0816525099  9780816525096           eng          336              0   \n",
       "10517  0071348271  9780071348270           eng          242              0   \n",
       "10853  1877058335  9781877058332           eng          264              0   \n",
       "10866  0830832947  9780830832941           eng          327              0   \n",
       "\n",
       "       text_reviews_count publication_date  \\\n",
       "264                     0         5/1/2006   \n",
       "525                     0        3/11/2005   \n",
       "526                     0        7/29/2005   \n",
       "624                     0        2/22/1922   \n",
       "747                     0         7/1/1993   \n",
       "935                     0         4/1/1995   \n",
       "1110                    0         1/1/1984   \n",
       "1681                    0       10/10/2003   \n",
       "2051                    0         6/1/2004   \n",
       "2255                    0       10/30/1991   \n",
       "2956                    0        4/11/2006   \n",
       "3006                    0        8/12/2004   \n",
       "3007                    0        9/18/2002   \n",
       "3133                    0        3/15/1994   \n",
       "3235                    0         6/5/1996   \n",
       "3240                    0         2/1/2006   \n",
       "3349                    0        7/15/2002   \n",
       "3380                    0        3/31/1995   \n",
       "4214                    0        8/17/1989   \n",
       "4748                    0        5/26/2005   \n",
       "4856                    0        8/15/2006   \n",
       "5477                    0        3/30/2005   \n",
       "5726                    0         1/1/1949   \n",
       "5781                    0       10/15/2002   \n",
       "6046                    0         5/1/2001   \n",
       "6087                    0        9/18/2002   \n",
       "6396                    0         7/1/2003   \n",
       "6563                    0         9/1/1993   \n",
       "6809                    0        10/1/2005   \n",
       "6816                    0         2/3/1994   \n",
       "6976                    0         1/1/1994   \n",
       "7002                    0        12/1/2004   \n",
       "7178                    0        8/30/1999   \n",
       "7212                    1        11/1/2006   \n",
       "7754                    0        4/18/2006   \n",
       "7872                    0         7/1/2008   \n",
       "8055                    0        4/24/1989   \n",
       "8475                    0        4/28/1991   \n",
       "8745                    0        1/31/1997   \n",
       "8766                    0         2/1/2003   \n",
       "8841                    0        12/1/2002   \n",
       "8878                    0        9/23/2003   \n",
       "8942                    0        1/13/1989   \n",
       "9067                    0         6/1/1998   \n",
       "9159                    0       12/30/2016   \n",
       "9202                    0        1/16/2002   \n",
       "9702                    0         5/2/2005   \n",
       "9851                    0         5/1/2000   \n",
       "10168                   0       11/10/1988   \n",
       "10266                   0        11/1/2001   \n",
       "10313                   0        9/15/2017   \n",
       "10446                   0        5/25/2006   \n",
       "10517                   0        4/30/1999   \n",
       "10853                   0         6/1/2005   \n",
       "10866                   0         7/1/2004   \n",
       "\n",
       "                                    publisher  \n",
       "264                                Geoplaneta  \n",
       "525                  Longman Publishing Group  \n",
       "526                  Longman Publishing Group  \n",
       "624              Oxford University Press  USA  \n",
       "747              University of Illinois Press  \n",
       "935                          Insel  Frankfurt  \n",
       "1110                        Heinemann-Octopus  \n",
       "1681                       Palgrave Macmillan  \n",
       "2051                             Mills & Boon  \n",
       "2255                           Live Oak Media  \n",
       "2956                                     Rayo  \n",
       "3006                           Hodder Wayland  \n",
       "3007                       Gallimard Jeunesse  \n",
       "3133                                   Denoël  \n",
       "3235                       Palgrave Macmillan  \n",
       "3240                        Timber Press (OR)  \n",
       "3349                               SparkNotes  \n",
       "3380                                 Métailié  \n",
       "4214                 Headline Book Publishing  \n",
       "4748                 Longman Publishing Group  \n",
       "4856                             Berlitz Kids  \n",
       "5477                       BBC Physical Audio  \n",
       "5726                          Scholastic Inc.  \n",
       "5781                            Mariner Books  \n",
       "6046                         Turtleback Books  \n",
       "6087                        小学館 [Shōgakukan]  \n",
       "6396                         Turtleback Books  \n",
       "6563                                  Grasset  \n",
       "6809                    McGraw-Hill Companies  \n",
       "6816                            Bradford Book  \n",
       "6976                                F. Meiner  \n",
       "7002                       Pfeiffer & Company  \n",
       "7178                Houghton Mifflin Harcourt  \n",
       "7212                              Puzzle-Roca  \n",
       "7754              Manchester University Press  \n",
       "7872                              HarperTorch  \n",
       "8055                         Houghton Mifflin  \n",
       "8475          University Press of Mississippi  \n",
       "8745   William B. Eerdmans Publishing Company  \n",
       "8766                                 Goldmann  \n",
       "8841                          Harry N. Abrams  \n",
       "8878     Random House Books for Young Readers  \n",
       "8942                             Random House  \n",
       "9067   Self-Realization Fellowship Publishers  \n",
       "9159                           Harper Collins  \n",
       "9202                           Academic Press  \n",
       "9702                Bloomsbury Publishing PLC  \n",
       "9851               Texas A&M University Press  \n",
       "10168                     Orion Publishing Co  \n",
       "10266                                Raintree  \n",
       "10313                 Northwestern Univ Press  \n",
       "10446             University of Arizona Press  \n",
       "10517                   McGraw-Hill Companies  \n",
       "10853                    Rosenberg Publishing  \n",
       "10866                               IVP Books  "
      ]
     },
     "execution_count": 32,
     "metadata": {},
     "output_type": "execute_result"
    }
   ],
   "source": [
    "books_df.loc[(books_df[\"ratings_count\"]==0) & (books_df[\"average_rating\"] > 0)]"
   ]
  },
  {
   "cell_type": "markdown",
   "id": "21553d1a",
   "metadata": {},
   "source": [
    "- there is 55 lines where the average rating is not null but the number of ratings is null. \n",
    "- It is obviously an error of typing or of web scraping (seen the origin the csv file).\n",
    "\n",
    "\n",
    "- This error can be handled in different ways:\n",
    "    - use an API in order to read updated data from the goodreads website and get the correct number of ratings per book. (not secure because the goodreads API is no more supported and the use of unofficial repositories online can lead to other erroneous data)\n",
    "    - drop those lines (secure way but reducing the dataset size)\n",
    "    - fill by the mean value of similar books (similar can be defined by books having similar average rating)"
   ]
  },
  {
   "cell_type": "markdown",
   "id": "300fdfd0",
   "metadata": {},
   "source": [
    "#### Another observation\n",
    "- About books having average_rating non zero and ratings_count equal to zero:\n",
    "\n",
    "at first view, we observe that in  most cases, duplicate titles correspond to different editions of a same book (even audio versions sometimes). we observe that the average rating value is taken from one book that has been rated and pasted to all editions. That's what explains why the average_rating is not 0 while the ratings_count is 0.\n",
    "\n",
    "In other words, different editions of a same book have all the average rating even if they were not been rated.\n",
    "\n",
    "- In this case, should we keep those rows ??\n",
    "\n",
    "- If we keep those rows and replace the ratings_count by the values of the book that has been really rated, then we will have something similar to duplicate values. Different editions of a book will often all have the same average_rating with the same ratings_count. \n",
    "\n",
    "- Since 55 rows doesn't affect too much the dataset (11 127 rows), the secure decision is to drop those rows"
   ]
  },
  {
   "cell_type": "code",
   "execution_count": 33,
   "id": "78034707",
   "metadata": {},
   "outputs": [],
   "source": [
    "# drop lines\n",
    "books_df = books_df[~((books_df[\"ratings_count\"]==0) & (books_df[\"average_rating\"] > 0))]"
   ]
  },
  {
   "cell_type": "markdown",
   "id": "449f9f87",
   "metadata": {},
   "source": [
    "#### What about duplicate titles (different editions) ? do they have the same average rate ? "
   ]
  },
  {
   "cell_type": "code",
   "execution_count": 34,
   "id": "6d1f6ac3",
   "metadata": {},
   "outputs": [
    {
     "data": {
      "text/html": [
       "<div>\n",
       "<style scoped>\n",
       "    .dataframe tbody tr th:only-of-type {\n",
       "        vertical-align: middle;\n",
       "    }\n",
       "\n",
       "    .dataframe tbody tr th {\n",
       "        vertical-align: top;\n",
       "    }\n",
       "\n",
       "    .dataframe thead th {\n",
       "        text-align: right;\n",
       "    }\n",
       "</style>\n",
       "<table border=\"1\" class=\"dataframe\">\n",
       "  <thead>\n",
       "    <tr style=\"text-align: right;\">\n",
       "      <th></th>\n",
       "      <th>bookID</th>\n",
       "      <th>title</th>\n",
       "      <th>authors</th>\n",
       "      <th>average_rating</th>\n",
       "      <th>isbn</th>\n",
       "      <th>isbn13</th>\n",
       "      <th>language_code</th>\n",
       "      <th>num_pages</th>\n",
       "      <th>ratings_count</th>\n",
       "      <th>text_reviews_count</th>\n",
       "      <th>publication_date</th>\n",
       "      <th>publisher</th>\n",
       "    </tr>\n",
       "  </thead>\n",
       "  <tbody>\n",
       "    <tr>\n",
       "      <th>9253</th>\n",
       "      <td>36303</td>\n",
       "      <td>'Salem's Lot</td>\n",
       "      <td>Stephen King</td>\n",
       "      <td>4.02</td>\n",
       "      <td>0451139690</td>\n",
       "      <td>9780451139696</td>\n",
       "      <td>eng</td>\n",
       "      <td>427</td>\n",
       "      <td>186</td>\n",
       "      <td>22</td>\n",
       "      <td>8/1/1976</td>\n",
       "      <td>Signet</td>\n",
       "    </tr>\n",
       "    <tr>\n",
       "      <th>1577</th>\n",
       "      <td>5420</td>\n",
       "      <td>'Salem's Lot</td>\n",
       "      <td>Stephen King</td>\n",
       "      <td>4.02</td>\n",
       "      <td>0340770538</td>\n",
       "      <td>9780340770535</td>\n",
       "      <td>eng</td>\n",
       "      <td>586</td>\n",
       "      <td>25</td>\n",
       "      <td>6</td>\n",
       "      <td>10/6/2010</td>\n",
       "      <td>Hodder &amp; Stoughton Ltd</td>\n",
       "    </tr>\n",
       "    <tr>\n",
       "      <th>5302</th>\n",
       "      <td>19137</td>\n",
       "      <td>'Salem's Lot</td>\n",
       "      <td>Stephen King</td>\n",
       "      <td>4.02</td>\n",
       "      <td>0451098277</td>\n",
       "      <td>9780451098276</td>\n",
       "      <td>eng</td>\n",
       "      <td>817</td>\n",
       "      <td>18</td>\n",
       "      <td>3</td>\n",
       "      <td>8/1/1976</td>\n",
       "      <td>Signet</td>\n",
       "    </tr>\n",
       "    <tr>\n",
       "      <th>5300</th>\n",
       "      <td>19135</td>\n",
       "      <td>'Salem's Lot</td>\n",
       "      <td>Stephen King/Ron McLarty</td>\n",
       "      <td>4.02</td>\n",
       "      <td>0743536959</td>\n",
       "      <td>9780743536950</td>\n",
       "      <td>en-US</td>\n",
       "      <td>0</td>\n",
       "      <td>56</td>\n",
       "      <td>5</td>\n",
       "      <td>1/19/2004</td>\n",
       "      <td>Simon &amp; Schuster Audio</td>\n",
       "    </tr>\n",
       "    <tr>\n",
       "      <th>1576</th>\n",
       "      <td>5419</td>\n",
       "      <td>'Salem's Lot</td>\n",
       "      <td>Stephen King</td>\n",
       "      <td>4.02</td>\n",
       "      <td>0451092317</td>\n",
       "      <td>9780451092311</td>\n",
       "      <td>en-US</td>\n",
       "      <td>427</td>\n",
       "      <td>178</td>\n",
       "      <td>35</td>\n",
       "      <td>11/13/1979</td>\n",
       "      <td>Signet</td>\n",
       "    </tr>\n",
       "    <tr>\n",
       "      <th>...</th>\n",
       "      <td>...</td>\n",
       "      <td>...</td>\n",
       "      <td>...</td>\n",
       "      <td>...</td>\n",
       "      <td>...</td>\n",
       "      <td>...</td>\n",
       "      <td>...</td>\n",
       "      <td>...</td>\n",
       "      <td>...</td>\n",
       "      <td>...</td>\n",
       "      <td>...</td>\n",
       "      <td>...</td>\n",
       "    </tr>\n",
       "    <tr>\n",
       "      <th>10908</th>\n",
       "      <td>44597</td>\n",
       "      <td>Wide Sargasso Sea</td>\n",
       "      <td>Jean Rhys</td>\n",
       "      <td>3.58</td>\n",
       "      <td>0140274219</td>\n",
       "      <td>9780140274219</td>\n",
       "      <td>eng</td>\n",
       "      <td>160</td>\n",
       "      <td>21384</td>\n",
       "      <td>1386</td>\n",
       "      <td>9/3/1998</td>\n",
       "      <td>Penguin Books</td>\n",
       "    </tr>\n",
       "    <tr>\n",
       "      <th>568</th>\n",
       "      <td>1848</td>\n",
       "      <td>Wild Swans: Three Daughters of China</td>\n",
       "      <td>Jung Chang</td>\n",
       "      <td>4.26</td>\n",
       "      <td>0743246985</td>\n",
       "      <td>9780743246989</td>\n",
       "      <td>eng</td>\n",
       "      <td>562</td>\n",
       "      <td>73572</td>\n",
       "      <td>4280</td>\n",
       "      <td>8/12/2003</td>\n",
       "      <td>Simon  Schuster</td>\n",
       "    </tr>\n",
       "    <tr>\n",
       "      <th>2656</th>\n",
       "      <td>9763</td>\n",
       "      <td>Wild Swans: Three Daughters of China</td>\n",
       "      <td>Jung Chang</td>\n",
       "      <td>4.26</td>\n",
       "      <td>0007176155</td>\n",
       "      <td>9780007176151</td>\n",
       "      <td>eng</td>\n",
       "      <td>666</td>\n",
       "      <td>1832</td>\n",
       "      <td>214</td>\n",
       "      <td>4/5/2004</td>\n",
       "      <td>Harper Perennial</td>\n",
       "    </tr>\n",
       "    <tr>\n",
       "      <th>3492</th>\n",
       "      <td>12703</td>\n",
       "      <td>Wuthering Heights</td>\n",
       "      <td>Emily Brontë/Alice Hoffman</td>\n",
       "      <td>3.85</td>\n",
       "      <td>0451529251</td>\n",
       "      <td>9780451529251</td>\n",
       "      <td>eng</td>\n",
       "      <td>322</td>\n",
       "      <td>1898</td>\n",
       "      <td>201</td>\n",
       "      <td>3/2/2004</td>\n",
       "      <td>Signet Classics</td>\n",
       "    </tr>\n",
       "    <tr>\n",
       "      <th>1758</th>\n",
       "      <td>6184</td>\n",
       "      <td>Wuthering Heights</td>\n",
       "      <td>Emily Brontë</td>\n",
       "      <td>3.85</td>\n",
       "      <td>0140620125</td>\n",
       "      <td>9780140620122</td>\n",
       "      <td>eng</td>\n",
       "      <td>279</td>\n",
       "      <td>2155</td>\n",
       "      <td>182</td>\n",
       "      <td>1/13/2007</td>\n",
       "      <td>Penguin Books</td>\n",
       "    </tr>\n",
       "  </tbody>\n",
       "</table>\n",
       "<p>1255 rows × 12 columns</p>\n",
       "</div>"
      ],
      "text/plain": [
       "       bookID                                 title  \\\n",
       "9253    36303                          'Salem's Lot   \n",
       "1577     5420                          'Salem's Lot   \n",
       "5302    19137                          'Salem's Lot   \n",
       "5300    19135                          'Salem's Lot   \n",
       "1576     5419                          'Salem's Lot   \n",
       "...       ...                                   ...   \n",
       "10908   44597                     Wide Sargasso Sea   \n",
       "568      1848  Wild Swans: Three Daughters of China   \n",
       "2656     9763  Wild Swans: Three Daughters of China   \n",
       "3492    12703                     Wuthering Heights   \n",
       "1758     6184                     Wuthering Heights   \n",
       "\n",
       "                          authors  average_rating        isbn         isbn13  \\\n",
       "9253                 Stephen King            4.02  0451139690  9780451139696   \n",
       "1577                 Stephen King            4.02  0340770538  9780340770535   \n",
       "5302                 Stephen King            4.02  0451098277  9780451098276   \n",
       "5300     Stephen King/Ron McLarty            4.02  0743536959  9780743536950   \n",
       "1576                 Stephen King            4.02  0451092317  9780451092311   \n",
       "...                           ...             ...         ...            ...   \n",
       "10908                   Jean Rhys            3.58  0140274219  9780140274219   \n",
       "568                    Jung Chang            4.26  0743246985  9780743246989   \n",
       "2656                   Jung Chang            4.26  0007176155  9780007176151   \n",
       "3492   Emily Brontë/Alice Hoffman            3.85  0451529251  9780451529251   \n",
       "1758                 Emily Brontë            3.85  0140620125  9780140620122   \n",
       "\n",
       "      language_code    num_pages  ratings_count  text_reviews_count  \\\n",
       "9253            eng          427            186                  22   \n",
       "1577            eng          586             25                   6   \n",
       "5302            eng          817             18                   3   \n",
       "5300          en-US            0             56                   5   \n",
       "1576          en-US          427            178                  35   \n",
       "...             ...          ...            ...                 ...   \n",
       "10908           eng          160          21384                1386   \n",
       "568             eng          562          73572                4280   \n",
       "2656            eng          666           1832                 214   \n",
       "3492            eng          322           1898                 201   \n",
       "1758            eng          279           2155                 182   \n",
       "\n",
       "      publication_date               publisher  \n",
       "9253          8/1/1976                  Signet  \n",
       "1577         10/6/2010  Hodder & Stoughton Ltd  \n",
       "5302          8/1/1976                  Signet  \n",
       "5300         1/19/2004  Simon & Schuster Audio  \n",
       "1576        11/13/1979                  Signet  \n",
       "...                ...                     ...  \n",
       "10908         9/3/1998           Penguin Books  \n",
       "568          8/12/2003         Simon  Schuster  \n",
       "2656          4/5/2004        Harper Perennial  \n",
       "3492          3/2/2004         Signet Classics  \n",
       "1758         1/13/2007           Penguin Books  \n",
       "\n",
       "[1255 rows x 12 columns]"
      ]
     },
     "execution_count": 34,
     "metadata": {},
     "output_type": "execute_result"
    }
   ],
   "source": [
    "books_df.loc[books_df[\"title\"].duplicated(keep=False)].sort_values(axis=0, by=\"title\")"
   ]
  },
  {
   "cell_type": "markdown",
   "id": "f723e375",
   "metadata": {},
   "source": [
    "- We observe also that different editions have often the same average_rating even with different ratings_count. \n",
    "- This means that it can be an error of web scraping\n",
    "- We observe that the number of such rows is really important. There is a lot of different editions in this dataset. We will just leave them"
   ]
  },
  {
   "cell_type": "markdown",
   "id": "47704655",
   "metadata": {},
   "source": [
    "#### How is the distribution of average rating and the rating count ?"
   ]
  },
  {
   "cell_type": "code",
   "execution_count": 35,
   "id": "1aabab02",
   "metadata": {},
   "outputs": [
    {
     "data": {
      "text/plain": [
       "<Axes: title={'center': 'distribution average_rating / ratings_count'}, xlabel='average_rating', ylabel='ratings_count'>"
      ]
     },
     "execution_count": 35,
     "metadata": {},
     "output_type": "execute_result"
    },
    {
     "data": {
      "image/png": "[encoded data removed]",
      "text/plain": [
       "<Figure size 640x480 with 1 Axes>"
      ]
     },
     "metadata": {},
     "output_type": "display_data"
    }
   ],
   "source": [
    "books_df.plot.scatter(\n",
    "    y=\"ratings_count\", \n",
    "    x=\"average_rating\", \n",
    "    grid=True,\n",
    "    title=\"distribution average_rating / ratings_count\"\n",
    ")"
   ]
  },
  {
   "cell_type": "markdown",
   "id": "10ad8beb",
   "metadata": {},
   "source": [
    "- At first sight, we see that most average_rating are centered on the value 4 (a histogram can confirm that)\n",
    "- ratings_count can go from very few to more than 4 000 000 ratings\n",
    "- let's first take a look at those values in order to find outliers"
   ]
  },
  {
   "cell_type": "code",
   "execution_count": 36,
   "id": "15c8233d",
   "metadata": {},
   "outputs": [
    {
     "data": {
      "text/plain": [
       "<Axes: title={'center': 'distribution of the average_rating values'}, xlabel='average_rating', ylabel='Frequency'>"
      ]
     },
     "execution_count": 36,
     "metadata": {},
     "output_type": "execute_result"
    },
    {
     "data": {
      "image/png": "[encoded data removed]",
      "text/plain": [
       "<Figure size 640x480 with 1 Axes>"
      ]
     },
     "metadata": {},
     "output_type": "display_data"
    }
   ],
   "source": [
    "books_df[\"average_rating\"].plot.hist(\n",
    "    bins=100, \n",
    "    title=\"distribution of the average_rating values\", \n",
    "    xlabel=\"average_rating\",\n",
    "    grid=True\n",
    ")"
   ]
  },
  {
   "cell_type": "markdown",
   "id": "214c38e6",
   "metadata": {},
   "source": [
    "- Looks like a normal distribution centered around 4.\n",
    "- We see that values are now only between 1 and 5\n",
    "- very few books have low ratings (less than 3)\n",
    "- very few books can have 5 stars rating"
   ]
  },
  {
   "cell_type": "code",
   "execution_count": 37,
   "id": "63be75da",
   "metadata": {},
   "outputs": [
    {
     "data": {
      "text/plain": [
       "<Axes: >"
      ]
     },
     "execution_count": 37,
     "metadata": {},
     "output_type": "execute_result"
    },
    {
     "data": {
      "image/png": "[encoded data removed]",
      "text/plain": [
       "<Figure size 640x480 with 1 Axes>"
      ]
     },
     "metadata": {},
     "output_type": "display_data"
    }
   ],
   "source": [
    "books_df[\"ratings_count\"].plot.box()"
   ]
  },
  {
   "cell_type": "code",
   "execution_count": 38,
   "id": "c739a364",
   "metadata": {},
   "outputs": [
    {
     "data": {
      "text/html": [
       "<div>\n",
       "<style scoped>\n",
       "    .dataframe tbody tr th:only-of-type {\n",
       "        vertical-align: middle;\n",
       "    }\n",
       "\n",
       "    .dataframe tbody tr th {\n",
       "        vertical-align: top;\n",
       "    }\n",
       "\n",
       "    .dataframe thead th {\n",
       "        text-align: right;\n",
       "    }\n",
       "</style>\n",
       "<table border=\"1\" class=\"dataframe\">\n",
       "  <thead>\n",
       "    <tr style=\"text-align: right;\">\n",
       "      <th></th>\n",
       "      <th>bookID</th>\n",
       "      <th>title</th>\n",
       "      <th>authors</th>\n",
       "      <th>average_rating</th>\n",
       "      <th>isbn</th>\n",
       "      <th>isbn13</th>\n",
       "      <th>language_code</th>\n",
       "      <th>num_pages</th>\n",
       "      <th>ratings_count</th>\n",
       "      <th>text_reviews_count</th>\n",
       "      <th>publication_date</th>\n",
       "      <th>publisher</th>\n",
       "    </tr>\n",
       "  </thead>\n",
       "  <tbody>\n",
       "    <tr>\n",
       "      <th>10340</th>\n",
       "      <td>41865</td>\n",
       "      <td>Twilight (Twilight  #1)</td>\n",
       "      <td>Stephenie Meyer</td>\n",
       "      <td>3.59</td>\n",
       "      <td>0316015849</td>\n",
       "      <td>9780316015844</td>\n",
       "      <td>eng</td>\n",
       "      <td>501</td>\n",
       "      <td>4597666</td>\n",
       "      <td>94265</td>\n",
       "      <td>9/6/2006</td>\n",
       "      <td>Little  Brown and Company</td>\n",
       "    </tr>\n",
       "  </tbody>\n",
       "</table>\n",
       "</div>"
      ],
      "text/plain": [
       "       bookID                    title          authors  average_rating  \\\n",
       "10340   41865  Twilight (Twilight  #1)  Stephenie Meyer            3.59   \n",
       "\n",
       "             isbn         isbn13 language_code    num_pages  ratings_count  \\\n",
       "10340  0316015849  9780316015844           eng          501        4597666   \n",
       "\n",
       "       text_reviews_count publication_date                  publisher  \n",
       "10340               94265         9/6/2006  Little  Brown and Company  "
      ]
     },
     "execution_count": 38,
     "metadata": {},
     "output_type": "execute_result"
    }
   ],
   "source": [
    "books_df.loc[books_df[\"ratings_count\"] > 4e6]"
   ]
  },
  {
   "cell_type": "markdown",
   "id": "4378fbcb",
   "metadata": {},
   "source": [
    "- looks like it's normal to find very high level of counts for some special books like the one above"
   ]
  },
  {
   "cell_type": "code",
   "execution_count": 39,
   "id": "50f862d5",
   "metadata": {},
   "outputs": [
    {
     "data": {
      "text/plain": [
       "<Axes: >"
      ]
     },
     "execution_count": 39,
     "metadata": {},
     "output_type": "execute_result"
    },
    {
     "data": {
      "image/png": "[encoded data removed]",
      "text/plain": [
       "<Figure size 640x480 with 1 Axes>"
      ]
     },
     "metadata": {},
     "output_type": "display_data"
    }
   ],
   "source": [
    "books_df.loc[books_df[\"ratings_count\"] < 1e3, \"ratings_count\"].plot.box()"
   ]
  },
  {
   "cell_type": "markdown",
   "id": "91ff459d",
   "metadata": {},
   "source": [
    "for the majority of the dataset, we find tha ratings_counts are between less than 10 to 1000"
   ]
  },
  {
   "cell_type": "code",
   "execution_count": 40,
   "id": "7e06b4f0",
   "metadata": {},
   "outputs": [],
   "source": [
    "books_df_sliced = books_df.loc[books_df[\"ratings_count\"] < 1e3]"
   ]
  },
  {
   "cell_type": "code",
   "execution_count": 41,
   "id": "8cd0e531",
   "metadata": {},
   "outputs": [
    {
     "data": {
      "text/plain": [
       "<Axes: title={'center': 'distribution average_rating / ratings_count'}, xlabel='average_rating', ylabel='ratings_count'>"
      ]
     },
     "execution_count": 41,
     "metadata": {},
     "output_type": "execute_result"
    },
    {
     "data": {
      "image/png": "[encoded data removed]",
      "text/plain": [
       "<Figure size 640x480 with 1 Axes>"
      ]
     },
     "metadata": {},
     "output_type": "display_data"
    }
   ],
   "source": [
    "books_df_sliced.plot.scatter(\n",
    "    y=\"ratings_count\", \n",
    "    x=\"average_rating\", \n",
    "    grid=True,\n",
    "    title=\"distribution average_rating / ratings_count\"\n",
    ")"
   ]
  },
  {
   "cell_type": "markdown",
   "id": "22a4dabe",
   "metadata": {},
   "source": [
    "- We can see that almost all ratings are centered around 4 but we can surely say that above a certain ratings_count (200) the average_rating is more than 2.5 or 3"
   ]
  },
  {
   "cell_type": "markdown",
   "id": "3f3606ff",
   "metadata": {},
   "source": [
    "### text review counts"
   ]
  },
  {
   "cell_type": "code",
   "execution_count": 126,
   "id": "2812345e",
   "metadata": {},
   "outputs": [
    {
     "data": {
      "text/plain": [
       "<Axes: title={'center': 'distribution average_rating / ratings_count'}, xlabel='average_rating', ylabel='text_reviews_count'>"
      ]
     },
     "execution_count": 126,
     "metadata": {},
     "output_type": "execute_result"
    },
    {
     "data": {
      "image/png": "[encoded data removed]",
      "text/plain": [
       "<Figure size 640x480 with 1 Axes>"
      ]
     },
     "metadata": {},
     "output_type": "display_data"
    }
   ],
   "source": [
    "books_df_sliced.plot.scatter(\n",
    "    y=\"text_reviews_count\", \n",
    "    x=\"average_rating\", \n",
    "    grid=True,\n",
    "    title=\"distribution average_rating / ratings_count\"\n",
    ")"
   ]
  },
  {
   "cell_type": "markdown",
   "id": "d99fc96d",
   "metadata": {},
   "source": [
    "- The values are >= to 1\n",
    "- We see a normal distribution also around 4"
   ]
  },
  {
   "cell_type": "code",
   "execution_count": 138,
   "id": "07dda4a7",
   "metadata": {},
   "outputs": [
    {
     "data": {
      "text/plain": [
       "<seaborn.axisgrid.FacetGrid at 0x19343066040>"
      ]
     },
     "execution_count": 138,
     "metadata": {},
     "output_type": "execute_result"
    },
    {
     "data": {
      "image/png": "[encoded data removed]",
      "text/plain": [
       "<Figure size 616.611x500 with 1 Axes>"
      ]
     },
     "metadata": {},
     "output_type": "display_data"
    }
   ],
   "source": [
    "sns.relplot(data=books_df, x=\"text_reviews_count\", y=\"ratings_count\", hue=\"average_rating\", palette=\"Spectral\")"
   ]
  },
  {
   "cell_type": "markdown",
   "id": "510ba5a4",
   "metadata": {},
   "source": [
    "- It seems like there is a linear relation between `ratings_count` and `text_reviews_count`. although we cannot confirm any linear relation between each of them and the average_rating"
   ]
  },
  {
   "cell_type": "markdown",
   "id": "6818d769",
   "metadata": {},
   "source": [
    "### language code\n",
    "- Categorical feature\n",
    "- plot their distributions"
   ]
  },
  {
   "cell_type": "code",
   "execution_count": 47,
   "id": "2c07a09e",
   "metadata": {},
   "outputs": [
    {
     "data": {
      "text/plain": [
       "language_code\n",
       "eng      8847\n",
       "en-US    1409\n",
       "en-GB     214\n",
       "spa       212\n",
       "fre       140\n",
       "ger        96\n",
       "jpn        45\n",
       "mul        19\n",
       "zho        14\n",
       "por        10\n",
       "grc         9\n",
       "en-CA       7\n",
       "ita         5\n",
       "enm         3\n",
       "lat         3\n",
       "swe         2\n",
       "rus         2\n",
       "nl          1\n",
       "msa         1\n",
       "glg         1\n",
       "wel         1\n",
       "ara         1\n",
       "nor         1\n",
       "tur         1\n",
       "gla         1\n",
       "ale         1\n",
       "Name: count, dtype: int64"
      ]
     },
     "execution_count": 47,
     "metadata": {},
     "output_type": "execute_result"
    }
   ],
   "source": [
    "books_df[\"language_code\"].value_counts()"
   ]
  },
  {
   "cell_type": "code",
   "execution_count": 140,
   "id": "f53c3168",
   "metadata": {
    "scrolled": false
   },
   "outputs": [
    {
     "data": {
      "text/plain": [
       "<Axes: title={'center': 'distribution average_rating / ratings_count'}, xlabel='text_reviews_count', ylabel='ratings_count'>"
      ]
     },
     "execution_count": 140,
     "metadata": {},
     "output_type": "execute_result"
    },
    {
     "data": {
      "image/png": "[encoded data removed]",
      "text/plain": [
       "<Figure size 640x480 with 1 Axes>"
      ]
     },
     "metadata": {},
     "output_type": "display_data"
    }
   ],
   "source": [
    "books_df.plot.scatter(\n",
    "    y=\"ratings_count\", \n",
    "    x=\"text_reviews_count\", \n",
    "    grid=True,\n",
    "    title=\"distribution average_rating / ratings_count\"\n",
    ")"
   ]
  },
  {
   "cell_type": "code",
   "execution_count": 49,
   "id": "aae2abf6",
   "metadata": {},
   "outputs": [
    {
     "data": {
      "text/plain": [
       "<Axes: title={'center': 'distribution of the language_code column'}, xlabel='language_code'>"
      ]
     },
     "execution_count": 49,
     "metadata": {},
     "output_type": "execute_result"
    },
    {
     "data": {
      "image/png": "[encoded data removed]",
      "text/plain": [
       "<Figure size 640x480 with 1 Axes>"
      ]
     },
     "metadata": {},
     "output_type": "display_data"
    }
   ],
   "source": [
    "books_df[\"language_code\"].value_counts().plot.bar(grid=True, title=\"distribution of the language_code column\")"
   ]
  },
  {
   "cell_type": "markdown",
   "id": "ef196e7a",
   "metadata": {},
   "source": [
    "- `language_code` is an unbalanced column\n",
    "- some languages have only one book in the dataset.\n",
    "- shall we keep this feature ? \n",
    "- does a book have a good rating because it is written in a certain language ?"
   ]
  },
  {
   "cell_type": "code",
   "execution_count": 52,
   "id": "b844cda6",
   "metadata": {},
   "outputs": [],
   "source": [
    "import seaborn as sns"
   ]
  },
  {
   "cell_type": "code",
   "execution_count": 58,
   "id": "9b5eb931",
   "metadata": {},
   "outputs": [
    {
     "data": {
      "text/plain": [
       "<Axes: xlabel='average_rating', ylabel='language_code'>"
      ]
     },
     "execution_count": 58,
     "metadata": {},
     "output_type": "execute_result"
    },
    {
     "data": {
      "image/png": "[encoded data removed]",
      "text/plain": [
       "<Figure size 640x480 with 1 Axes>"
      ]
     },
     "metadata": {},
     "output_type": "display_data"
    }
   ],
   "source": [
    "sns.boxplot(data=books_df, x=\"average_rating\", y=\"language_code\")"
   ]
  },
  {
   "cell_type": "markdown",
   "id": "4a6b6019",
   "metadata": {},
   "source": [
    "- we can see that for the most used language codes (`eng`, `eng-US` and `eng-GB`) the average rating is normally distributed like it was seen for the whole dataset\n",
    "- for some language codes we find that the average rating can be more centered and bounded but this observation cannot be used to build a generic model. We only have few samples for thoses languages and it cannot be representative of the rating problem.\n",
    "- In other words, the feature language can be dropped"
   ]
  },
  {
   "cell_type": "markdown",
   "id": "79d0b887",
   "metadata": {},
   "source": [
    "### 4. Publication date"
   ]
  },
  {
   "cell_type": "code",
   "execution_count": 92,
   "id": "c4570c92",
   "metadata": {},
   "outputs": [],
   "source": [
    "def get_datetime_year(input_date):\n",
    "    \"\"\"extract the year from publication date column\"\"\"\n",
    "    date_exploded = input_date.split(\"/\")\n",
    "    return date_exploded[-1]"
   ]
  },
  {
   "cell_type": "code",
   "execution_count": 99,
   "id": "14197c53",
   "metadata": {},
   "outputs": [],
   "source": [
    "books_df[\"publication_year\"] = books_df[\"publication_date\"].apply(get_datetime_year)\n",
    "books_df[\"publication_year\"] = pd.to_datetime(books_df[\"publication_year\"], format=\"%Y\", exact=False)"
   ]
  },
  {
   "cell_type": "code",
   "execution_count": 100,
   "id": "bbb5a4b3",
   "metadata": {},
   "outputs": [
    {
     "data": {
      "text/plain": [
       "0       2006-01-01\n",
       "1       2004-01-01\n",
       "2       2003-01-01\n",
       "3       2004-01-01\n",
       "4       2004-01-01\n",
       "           ...    \n",
       "11122   2004-01-01\n",
       "11123   1988-01-01\n",
       "11124   1993-01-01\n",
       "11125   2007-01-01\n",
       "11126   2006-01-01\n",
       "Name: publication_year, Length: 11046, dtype: datetime64[ns]"
      ]
     },
     "execution_count": 100,
     "metadata": {},
     "output_type": "execute_result"
    }
   ],
   "source": [
    "books_df[\"publication_year\"]"
   ]
  },
  {
   "cell_type": "code",
   "execution_count": 101,
   "id": "2849816c",
   "metadata": {},
   "outputs": [
    {
     "data": {
      "text/plain": [
       "<Axes: xlabel='publication_year'>"
      ]
     },
     "execution_count": 101,
     "metadata": {},
     "output_type": "execute_result"
    },
    {
     "data": {
      "image/png": "[encoded data removed]",
      "text/plain": [
       "<Figure size 640x480 with 1 Axes>"
      ]
     },
     "metadata": {},
     "output_type": "display_data"
    }
   ],
   "source": [
    "books_df.plot(x=\"publication_year\", y=\"average_rating\")"
   ]
  },
  {
   "cell_type": "markdown",
   "id": "107e6cfc",
   "metadata": {},
   "source": [
    "it doesn't seem that the publication year have an important influence on the average_rating values"
   ]
  },
  {
   "cell_type": "markdown",
   "id": "570ced53",
   "metadata": {},
   "source": [
    "### number of pages"
   ]
  },
  {
   "cell_type": "code",
   "execution_count": 118,
   "id": "57fef43d",
   "metadata": {},
   "outputs": [],
   "source": [
    "# remove extra whitespaces in column names \n",
    "books_df.columns = [col_name.strip() for col_name in books_df.columns]"
   ]
  },
  {
   "cell_type": "code",
   "execution_count": 123,
   "id": "3121e3cd",
   "metadata": {},
   "outputs": [
    {
     "data": {
      "text/plain": [
       "count    11046.000000\n",
       "mean       336.762810\n",
       "std        240.971269\n",
       "min          0.000000\n",
       "25%        194.000000\n",
       "50%        300.000000\n",
       "75%        416.000000\n",
       "max       6576.000000\n",
       "Name: num_pages, dtype: float64"
      ]
     },
     "execution_count": 123,
     "metadata": {},
     "output_type": "execute_result"
    }
   ],
   "source": [
    "books_df[\"num_pages\"].describe()"
   ]
  },
  {
   "cell_type": "code",
   "execution_count": 142,
   "id": "9e21c20a",
   "metadata": {},
   "outputs": [
    {
     "data": {
      "text/plain": [
       "<Axes: >"
      ]
     },
     "execution_count": 142,
     "metadata": {},
     "output_type": "execute_result"
    },
    {
     "data": {
      "image/png": "[encoded data removed]",
      "text/plain": [
       "<Figure size 640x480 with 1 Axes>"
      ]
     },
     "metadata": {},
     "output_type": "display_data"
    }
   ],
   "source": [
    "books_df[\"num_pages\"].plot.box()"
   ]
  },
  {
   "cell_type": "markdown",
   "id": "e1f9021f",
   "metadata": {},
   "source": [
    "it might be some outliers but seems ok to have books with more than 3000 pages"
   ]
  },
  {
   "cell_type": "code",
   "execution_count": 146,
   "id": "27c7a66c",
   "metadata": {},
   "outputs": [
    {
     "data": {
      "text/plain": [
       "<Axes: title={'center': 'distribution average_rating / ratings_count'}, xlabel='average_rating', ylabel='num_pages'>"
      ]
     },
     "execution_count": 146,
     "metadata": {},
     "output_type": "execute_result"
    },
    {
     "data": {
      "image/png": "[encoded data removed]",
      "text/plain": [
       "<Figure size 640x480 with 1 Axes>"
      ]
     },
     "metadata": {},
     "output_type": "display_data"
    }
   ],
   "source": [
    "books_df.plot.scatter(\n",
    "    y=\"num_pages\", \n",
    "    x=\"average_rating\", \n",
    "    grid=True,\n",
    "    title=\"distribution average_rating / ratings_count\"\n",
    ")"
   ]
  },
  {
   "cell_type": "code",
   "execution_count": 147,
   "id": "9647b8ef",
   "metadata": {},
   "outputs": [],
   "source": [
    "books_df_sliced = books_df.loc[books_df[\"num_pages\"] < 2000]"
   ]
  },
  {
   "cell_type": "code",
   "execution_count": 148,
   "id": "01660be7",
   "metadata": {},
   "outputs": [
    {
     "data": {
      "text/plain": [
       "<Axes: title={'center': 'distribution average_rating / ratings_count'}, xlabel='average_rating', ylabel='num_pages'>"
      ]
     },
     "execution_count": 148,
     "metadata": {},
     "output_type": "execute_result"
    },
    {
     "data": {
      "image/png": "[encoded data removed]",
      "text/plain": [
       "<Figure size 640x480 with 1 Axes>"
      ]
     },
     "metadata": {},
     "output_type": "display_data"
    }
   ],
   "source": [
    "books_df_sliced.plot.scatter(\n",
    "    y=\"num_pages\", \n",
    "    x=\"average_rating\", \n",
    "    grid=True,\n",
    "    title=\"distribution average_rating / ratings_count\"\n",
    ")"
   ]
  },
  {
   "cell_type": "markdown",
   "id": "b361ea6b",
   "metadata": {},
   "source": [
    "- For books having less than 2000 pages, we find that the more pages the less dispersion of the ratings and well it gets"
   ]
  },
  {
   "cell_type": "code",
   "execution_count": 151,
   "id": "b65937e4",
   "metadata": {},
   "outputs": [
    {
     "name": "stderr",
     "output_type": "stream",
     "text": [
      "C:\\Users\\souhe\\AppData\\Local\\Temp\\ipykernel_99840\\1455063225.py:1: SettingWithCopyWarning: \n",
      "A value is trying to be set on a copy of a slice from a DataFrame.\n",
      "Try using .loc[row_indexer,col_indexer] = value instead\n",
      "\n",
      "See the caveats in the documentation: https://pandas.pydata.org/pandas-docs/stable/user_guide/indexing.html#returning-a-view-versus-a-copy\n",
      "  books_df_sliced[\"num_pages_cat\"] = pd.cut(books_df_sliced[\"num_pages\"], range(0, 2000, 250))\n"
     ]
    }
   ],
   "source": [
    "books_df_sliced[\"num_pages_cat\"] = pd.cut(books_df_sliced[\"num_pages\"], range(0, 2000, 250))"
   ]
  },
  {
   "cell_type": "code",
   "execution_count": 152,
   "id": "dc4363a5",
   "metadata": {},
   "outputs": [
    {
     "data": {
      "text/plain": [
       "<Axes: xlabel='average_rating', ylabel='num_pages_cat'>"
      ]
     },
     "execution_count": 152,
     "metadata": {},
     "output_type": "execute_result"
    },
    {
     "data": {
      "image/png": "[encoded data removed]",
      "text/plain": [
       "<Figure size 640x480 with 1 Axes>"
      ]
     },
     "metadata": {},
     "output_type": "display_data"
    }
   ],
   "source": [
    "sns.boxenplot(data=books_df_sliced, x=\"average_rating\", y=\"num_pages_cat\")"
   ]
  },
  {
   "cell_type": "markdown",
   "id": "ee6dbf8f",
   "metadata": {},
   "source": [
    "- the more pages the less distribution and the better average rating"
   ]
  },
  {
   "cell_type": "markdown",
   "id": "d3fe1c4b",
   "metadata": {},
   "source": [
    "### Genral notes\n",
    "- It might be good to include an additional dataset containing more information (like genres, keywords of summary, ...)"
   ]
  },
  {
   "cell_type": "markdown",
   "id": "dd03b3ca",
   "metadata": {},
   "source": [
    "## Conclusion\n",
    "- Exploring the `books.csv` file, we found interesting behaviors and relations between the different columns and the target  value `average_rating`.\n",
    "- `titles`: a long text information that can be dropped\n",
    "- `authors`: an important number of authors. Most of them appear only one time in the dataset. It is not pertinent to use this column as categorical feature (for 2 reasons: very large number of categories and unbalanced dataset regarding the occurrences of authors (only few appears multiple times ))\n",
    "- `num_pages`: a numerical value that can be used whether raw or categorized and which is directly related to target value\n",
    "- `ratings_count` and `text_reviews_count`: show a normal distribution regarding the target value. contains some erroneous values but can be kept for predicting model\n",
    "- `language_code`: is better to dropped because it is very unbalanced\n",
    "- `publication_year`: can be kept"
   ]
  },
  {
   "cell_type": "markdown",
   "id": "fac49da7",
   "metadata": {},
   "source": [
    "## ML models\n",
    "\n",
    "- Let's think of 2 types of ML models:\n",
    "\n",
    "### 1. Regression\n",
    "- begin with a linear regression\n",
    "- then a decision tree regressor\n",
    "- finally random forest regressor\n",
    "\n",
    "\n",
    "### 2. Classification\n",
    "- categorize the average_rating (1-2, 2-3, 3-4, 4-5)\n",
    "- begin with a logistic regression because it's linear\n",
    "- decision tree handles very well non linear data\n",
    "- naive baise maybe\n",
    "\n",
    "\n",
    "### 3. results\n",
    "- sklearn.metrics.classification_report gives you a good overview of your data (how is it distributed, ...)\n",
    "\n",
    "#### To improve the model's score\n",
    "1. data\n",
    "2. features\n",
    "3. model choice\n",
    "4. model parameters\n"
   ]
  }
 ],
 "metadata": {
  "kernelspec": {
   "display_name": "Python 3 (ipykernel)",
   "language": "python",
   "name": "python3"
  },
  "language_info": {
   "codemirror_mode": {
    "name": "ipython",
    "version": 3
   },
   "file_extension": ".py",
   "mimetype": "text/x-python",
   "name": "python",
   "nbconvert_exporter": "python",
   "pygments_lexer": "ipython3",
   "version": "3.9.13"
  }
 },
 "nbformat": 4,
 "nbformat_minor": 5
}
